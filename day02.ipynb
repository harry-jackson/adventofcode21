{
 "cells": [
  {
   "cell_type": "markdown",
   "metadata": {},
   "source": [
    "# Day 2\n",
    "\n",
    "https://adventofcode.com/2021/day/2\n",
    "\n",
    "Use a pandas DataFrame and map each direction command to a unit vector (e.g. \"up\" is (-1, 0)). As the submarine starts at (0, 0), the cumulative sum of these unit vectors at any point is the position in part 1. \n",
    "\n",
    "In part 2 the horizontal positions are the same. The vertical positions are now the aim. Decompose the position into \"horizontal position\" and \"aim\". The change in depth for a \"forward\" command is then the aim times the magnitude, so the depth at each point can be calculated."
   ]
  },
  {
   "cell_type": "code",
   "execution_count": 1,
   "metadata": {},
   "outputs": [],
   "source": [
    "import pandas as pd\n",
    "import numpy as np"
   ]
  },
  {
   "cell_type": "code",
   "execution_count": 2,
   "metadata": {},
   "outputs": [
    {
     "name": "stdout",
     "output_type": "stream",
     "text": [
      "1561344\n"
     ]
    }
   ],
   "source": [
    "with open(\"input_02.txt\", \"r\") as f:\n",
    "    inp = f.readlines()\n",
    "    \n",
    "inp = [tuple(x.replace(\"\\n\", \"\").split(\" \")) for x in inp]\n",
    "\n",
    "df = pd.DataFrame([{\"direction\": a, \"magnitude\": int(b)} for a, b in inp])\n",
    "\n",
    "# Map directions down, up and forward to 2D cartesian unit vectors\n",
    "vector_map = pd.DataFrame({\"direction\": [\"down\", \"up\", \"forward\"], \n",
    "                           \"unit_vector\": [np.array([1, 0]), np.array([-1, 0]), np.array([0, 1])]})\n",
    "\n",
    "df = df.merge(vector_map, on = \"direction\", how = \"left\")\n",
    "\n",
    "df[\"vector\"] = df.magnitude * df.unit_vector\n",
    "\n",
    "final_position = sum(df[\"vector\"])\n",
    "\n",
    "print(final_position[0] * final_position[1])"
   ]
  },
  {
   "cell_type": "code",
   "execution_count": 3,
   "metadata": {},
   "outputs": [
    {
     "name": "stdout",
     "output_type": "stream",
     "text": [
      "1848454425\n"
     ]
    }
   ],
   "source": [
    "# Get the cumulative sum of the unit vectors\n",
    "df[\"cumulative_vector\"] = np.cumsum(df[\"vector\"])\n",
    "\n",
    "# Split the vectors into aim and horizontal position\n",
    "df = pd.concat((df, pd.DataFrame(df.cumulative_vector.to_list(), columns = [\"aim\", \"horizontal_position\"])), axis = 1)\n",
    "\n",
    "# Use the new formula to calculate the depth \n",
    "df[\"depth\"] = np.cumsum((df.direction == \"forward\") * df.aim * df.magnitude)\n",
    "\n",
    "print(df.horizontal_position.iloc[-1] * df.depth.iloc[-1])"
   ]
  }
 ],
 "metadata": {
  "kernelspec": {
   "display_name": "Python 3",
   "language": "python",
   "name": "python3"
  },
  "language_info": {
   "codemirror_mode": {
    "name": "ipython",
    "version": 3
   },
   "file_extension": ".py",
   "mimetype": "text/x-python",
   "name": "python",
   "nbconvert_exporter": "python",
   "pygments_lexer": "ipython3",
   "version": "3.8.3"
  }
 },
 "nbformat": 4,
 "nbformat_minor": 5
}
