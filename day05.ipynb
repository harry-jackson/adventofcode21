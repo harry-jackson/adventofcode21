{
 "cells": [
  {
   "cell_type": "markdown",
   "metadata": {},
   "source": [
    "# Day 5\n",
    "\n",
    "https://adventofcode.com/2021/day/5\n",
    "\n",
    "Create the ocean floor as a numpy array of zeros, then draw lines by adding one to each cell on the line. The number of intersections is then the number of cells with a value > 1."
   ]
  },
  {
   "cell_type": "code",
   "execution_count": 1,
   "metadata": {},
   "outputs": [],
   "source": [
    "import numpy as np"
   ]
  },
  {
   "cell_type": "code",
   "execution_count": 3,
   "metadata": {},
   "outputs": [],
   "source": [
    "with open(\"test_input_05.txt\", \"r\") as f:\n",
    "    test_input = f.readlines()\n",
    "    \n",
    "with open(\"input_05.txt\", \"r\") as f:\n",
    "    real_input = f.readlines()\n",
    "    "
   ]
  },
  {
   "cell_type": "code",
   "execution_count": 4,
   "metadata": {},
   "outputs": [],
   "source": [
    "def brange(a, b):\n",
    "    \"\"\"Given a and b, return a tuple of all numbers x such that x >= min(a, b) and x <= max(a, b)\"\"\"\n",
    "    if (a < b):\n",
    "        return tuple(range(a, b + 1))\n",
    "    elif (a > b):\n",
    "        return tuple(range(a, b - 1, -1))\n",
    "    else:\n",
    "        return tuple([a])\n",
    "\n",
    "def str_to_tuple(s):\n",
    "    return tuple([int(n) for n in s.split(\",\")])\n",
    "\n",
    "def line_ends_to_ranges(le):\n",
    "    return tuple([brange(le[\"start\"][i], le[\"end\"][i]) for i in [1, 0]])\n",
    "    \n",
    "def line_ranges(test_input):\n",
    "    pairs = [x.replace(\"\\n\", \"\").split(\" -> \") for x in test_input]\n",
    "\n",
    "    line_ends = [{\"start\": str_to_tuple(p[0]), \"end\": str_to_tuple(p[1])} for p in pairs]\n",
    "    \n",
    "    return [line_ends_to_ranges(le) for le in line_ends]"
   ]
  },
  {
   "cell_type": "code",
   "execution_count": 5,
   "metadata": {},
   "outputs": [
    {
     "name": "stdout",
     "output_type": "stream",
     "text": [
      "[[0. 0. 0. 0. 0. 0. 0. 1. 0. 0.]\n",
      " [0. 0. 1. 0. 0. 0. 0. 1. 0. 0.]\n",
      " [0. 0. 1. 0. 0. 0. 0. 1. 0. 0.]\n",
      " [0. 0. 0. 0. 0. 0. 0. 1. 0. 0.]\n",
      " [0. 1. 1. 2. 1. 1. 1. 2. 1. 1.]\n",
      " [0. 0. 0. 0. 0. 0. 0. 0. 0. 0.]\n",
      " [0. 0. 0. 0. 0. 0. 0. 0. 0. 0.]\n",
      " [0. 0. 0. 0. 0. 0. 0. 0. 0. 0.]\n",
      " [0. 0. 0. 0. 0. 0. 0. 0. 0. 0.]\n",
      " [2. 2. 2. 1. 1. 1. 0. 0. 0. 0.]]\n",
      "5\n",
      "\n",
      "[[1. 0. 1. 0. 0. 0. 0. 1. 1. 0.]\n",
      " [0. 1. 1. 1. 0. 0. 0. 2. 0. 0.]\n",
      " [0. 0. 2. 0. 1. 0. 1. 1. 1. 0.]\n",
      " [0. 0. 0. 1. 0. 2. 0. 2. 0. 0.]\n",
      " [0. 1. 1. 2. 3. 1. 3. 2. 1. 1.]\n",
      " [0. 0. 0. 1. 0. 2. 0. 0. 0. 0.]\n",
      " [0. 0. 1. 0. 0. 0. 1. 0. 0. 0.]\n",
      " [0. 1. 0. 0. 0. 0. 0. 1. 0. 0.]\n",
      " [1. 0. 0. 0. 0. 0. 0. 0. 1. 0.]\n",
      " [2. 2. 2. 1. 1. 1. 0. 0. 0. 0.]]\n",
      "12\n"
     ]
    }
   ],
   "source": [
    "def max_extent(lr):\n",
    "    \"\"\"For a list of line ranges on a square map starting at (0, 0), return the width (== height) of the map\"\"\"\n",
    "    m = 0\n",
    "    for l in lr:\n",
    "        for i in l:\n",
    "            m = max(m, max(i))\n",
    "\n",
    "    return m + 1\n",
    "\n",
    "def draw_lines(line_ranges, diag = True):\n",
    "    max_ext = max_extent(line_ranges)\n",
    "    area = np.zeros((max_ext, max_ext))\n",
    "\n",
    "    for lr in line_ranges:\n",
    "        \n",
    "        # if diagonal:\n",
    "        if min(len(lr[0]), len(lr[1])) > 1:\n",
    "            if diag:\n",
    "                # do point-by-point\n",
    "                points = zip(lr[0], lr[1])\n",
    "                for p in points:\n",
    "                    area[p] = area[p] + 1\n",
    "        else: \n",
    "            area[lr] = area[lr] + 1\n",
    "    \n",
    "    return area\n",
    "\n",
    "test_area_1 = draw_lines(line_ranges(test_input), diag = False)\n",
    "\n",
    "print(test_area_1)\n",
    "print(np.sum(test_area_1 > 1))\n",
    "print('')\n",
    "\n",
    "test_area_2 = draw_lines(line_ranges(test_input))\n",
    "        \n",
    "print(test_area_2)\n",
    "print(np.sum(test_area_2 > 1))"
   ]
  },
  {
   "cell_type": "code",
   "execution_count": 6,
   "metadata": {},
   "outputs": [
    {
     "name": "stdout",
     "output_type": "stream",
     "text": [
      "7644\n",
      "\n",
      "18627\n"
     ]
    }
   ],
   "source": [
    "area_1 = draw_lines(line_ranges(real_input), diag = False)\n",
    "\n",
    "print(np.sum(area_1 > 1))\n",
    "print('')\n",
    "        \n",
    "area_2 = draw_lines(line_ranges(real_input))\n",
    "\n",
    "print(np.sum(area_2 > 1))"
   ]
  }
 ],
 "metadata": {
  "kernelspec": {
   "display_name": "Python 3",
   "language": "python",
   "name": "python3"
  },
  "language_info": {
   "codemirror_mode": {
    "name": "ipython",
    "version": 3
   },
   "file_extension": ".py",
   "mimetype": "text/x-python",
   "name": "python",
   "nbconvert_exporter": "python",
   "pygments_lexer": "ipython3",
   "version": "3.8.3"
  }
 },
 "nbformat": 4,
 "nbformat_minor": 5
}
