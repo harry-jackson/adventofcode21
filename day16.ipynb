{
 "cells": [
  {
   "cell_type": "markdown",
   "metadata": {},
   "source": [
    "# Day 16\n",
    "\n",
    "https://adventofcode.com/2021/day/16\n",
    "\n",
    "Packet object chops off bits from the start of the code as it needs them, parses, then creates sub-Packets and hands off the rest of the code to them to do the same. End with a tree of Packet objects from which you can recursively calculate the answers. "
   ]
  },
  {
   "cell_type": "code",
   "execution_count": 1,
   "metadata": {},
   "outputs": [],
   "source": [
    "import numpy as np"
   ]
  },
  {
   "cell_type": "code",
   "execution_count": 2,
   "metadata": {},
   "outputs": [],
   "source": [
    "hex2bin_dict = {\n",
    "    \"0\": \"0000\",\n",
    "    \"1\": \"0001\",\n",
    "    \"2\": \"0010\",\n",
    "    \"3\": \"0011\",\n",
    "    \"4\": \"0100\",\n",
    "    \"5\": \"0101\",\n",
    "    \"6\": \"0110\",\n",
    "    \"7\": \"0111\",\n",
    "    \"8\": \"1000\",\n",
    "    \"9\": \"1001\",\n",
    "    \"A\": \"1010\",\n",
    "    \"B\": \"1011\",\n",
    "    \"C\": \"1100\",\n",
    "    \"D\": \"1101\",\n",
    "    \"E\": \"1110\",\n",
    "    \"F\": \"1111\"\n",
    "}\n",
    "\n",
    "def hex2bin(h):\n",
    "    return ''.join([hex2bin_dict[x] for x in h])\n",
    "\n",
    "def bin2dec(b):\n",
    "    return np.sum(np.array(list(b), dtype = \"int\") * np.power(2, range(len(b) - 1, -1, -1), dtype = np.int64))"
   ]
  },
  {
   "cell_type": "code",
   "execution_count": 3,
   "metadata": {},
   "outputs": [],
   "source": [
    "def f_lt(l):\n",
    "    if len(l) != 2:\n",
    "        raise Exception(\"too many arguments\")\n",
    "    return np.int64(l[0] < l[1])\n",
    "\n",
    "def f_gt(l):\n",
    "    if len(l) != 2:\n",
    "        raise Exception(\"too many arguments\")\n",
    "    return np.int64(l[0] > l[1])\n",
    "\n",
    "def f_eq(l):\n",
    "    if len(l) != 2:\n",
    "        raise Exception(\"too many arguments\")\n",
    "    return np.int64(l[0] == l[1])\n",
    "\n",
    "def f_literal(l):\n",
    "    raise Exception(\"trying to evaluate a literal as an operator\")\n",
    "\n",
    "type2function = {\n",
    "    0: np.sum,\n",
    "    1: np.product,\n",
    "    2: np.min,\n",
    "    3: np.max,\n",
    "    4: f_literal,\n",
    "    5: f_gt,\n",
    "    6: f_lt,\n",
    "    7: f_eq\n",
    "}"
   ]
  },
  {
   "cell_type": "code",
   "execution_count": 4,
   "metadata": {},
   "outputs": [],
   "source": [
    "with open(\"input_16.txt\", \"r\") as f:\n",
    "    raw = f.read()\n",
    "    \n",
    "code = hex2bin(raw)"
   ]
  },
  {
   "cell_type": "code",
   "execution_count": 5,
   "metadata": {},
   "outputs": [],
   "source": [
    "class Packet:\n",
    "    \n",
    "    def __init__(self, code):\n",
    "        self.code = code\n",
    "        self.add_metadata()\n",
    "        \n",
    "        if self.is_operator:\n",
    "            self.evaluate_sub_packets()\n",
    "            self.evaluate_operator()\n",
    "        else:\n",
    "            self.sub_packets = []\n",
    "            self.evaluate_literal()\n",
    "        \n",
    "        \n",
    "    def add_metadata(self):\n",
    "        self.version = bin2dec(self.next_n_bits(3))\n",
    "        self.type = bin2dec(self.next_n_bits(3))\n",
    "        self.is_operator = self.type != 4\n",
    "        self.f = type2function[self.type]\n",
    "        \n",
    "        if self.is_operator:\n",
    "            self.length_type_id = bin2dec(self.next_n_bits(1))\n",
    "            \n",
    "            if self.length_type_id == 1:\n",
    "                self.length_bits = 11\n",
    "            else: \n",
    "                self.length_bits = 15\n",
    "            \n",
    "            self.length = bin2dec(self.next_n_bits(self.length_bits))\n",
    "            \n",
    "            \n",
    "    def evaluate_literal(self):\n",
    "        res = ''\n",
    "        next_bit = 1\n",
    "        while next_bit == 1:\n",
    "            next_bit = bin2dec(self.next_n_bits(1))\n",
    "            res = res + self.next_n_bits(4)\n",
    "            \n",
    "        self.literal_value = bin2dec(res)\n",
    "            \n",
    "    def evaluate_operator(self):\n",
    "        literal_values = np.array([x.literal_value for x in self.sub_packets], dtype = np.int64)\n",
    "        self.literal_value = self.f(literal_values)\n",
    "            \n",
    "    def is_finished(self):\n",
    "        return np.all(np.array(list(self.code), dtype = \"str\") == \"0\")\n",
    "            \n",
    "    def evaluate_sub_packets(self):\n",
    "        self.sub_packets = []\n",
    "        \n",
    "        if self.length_type_id == 0:\n",
    "            sub_packet_bits = self.next_n_bits(self.length)\n",
    "            new_packet = Packet(sub_packet_bits)\n",
    "            self.sub_packets.append(new_packet)\n",
    "            \n",
    "            while not new_packet.is_finished():\n",
    "                new_packet = Packet(new_packet.code)\n",
    "                self.sub_packets.append(new_packet)\n",
    "                \n",
    "        else:\n",
    "            for i in range(self.length):\n",
    "                new_packet = Packet(self.code)\n",
    "                self.code = new_packet.code\n",
    "                self.sub_packets.append(new_packet)\n",
    "        \n",
    "            \n",
    "    def next_n_bits(self, n):\n",
    "        res, self.code = (self.code[:n], self.code[n:])\n",
    "        return res"
   ]
  },
  {
   "cell_type": "code",
   "execution_count": 6,
   "metadata": {},
   "outputs": [],
   "source": [
    "p = Packet(code)"
   ]
  },
  {
   "cell_type": "code",
   "execution_count": 7,
   "metadata": {},
   "outputs": [
    {
     "data": {
      "text/plain": [
       "1014"
      ]
     },
     "execution_count": 7,
     "metadata": {},
     "output_type": "execute_result"
    }
   ],
   "source": [
    "def total_version(p):\n",
    "    res = p.version\n",
    "    res = res + np.sum([total_version(x) for x in p.sub_packets], dtype = \"int\")\n",
    "    return res\n",
    "\n",
    "total_version(p)"
   ]
  },
  {
   "cell_type": "code",
   "execution_count": 8,
   "metadata": {},
   "outputs": [
    {
     "data": {
      "text/plain": [
       "1922490999789"
      ]
     },
     "execution_count": 8,
     "metadata": {},
     "output_type": "execute_result"
    }
   ],
   "source": [
    "p.literal_value"
   ]
  }
 ],
 "metadata": {
  "kernelspec": {
   "display_name": "Python 3",
   "language": "python",
   "name": "python3"
  },
  "language_info": {
   "codemirror_mode": {
    "name": "ipython",
    "version": 3
   },
   "file_extension": ".py",
   "mimetype": "text/x-python",
   "name": "python",
   "nbconvert_exporter": "python",
   "pygments_lexer": "ipython3",
   "version": "3.8.3"
  }
 },
 "nbformat": 4,
 "nbformat_minor": 4
}
