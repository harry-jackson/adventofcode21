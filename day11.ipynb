{
 "cells": [
  {
   "cell_type": "markdown",
   "metadata": {},
   "source": [
    "# Day 11\n",
    "\n",
    "Use a numpy array to work this out in a vectorized way, then it all works pretty quickly. "
   ]
  },
  {
   "cell_type": "code",
   "execution_count": 1,
   "metadata": {},
   "outputs": [],
   "source": [
    "import numpy as np"
   ]
  },
  {
   "cell_type": "code",
   "execution_count": 2,
   "metadata": {},
   "outputs": [],
   "source": [
    "with open(\"input_11.txt\", \"r\") as f:\n",
    "    raw = f.readlines()\n",
    "    \n",
    "octopodes = np.array([list(l.replace(\"\\n\", \"\")) for l in raw], dtype = \"int32\")"
   ]
  },
  {
   "cell_type": "code",
   "execution_count": 3,
   "metadata": {},
   "outputs": [],
   "source": [
    "def shift_matrix(m, direction):\n",
    "    \"\"\"Return matrix m shifted in direction (expressed as a pair of integers between -1 and 1, e.g. [1, 0])\"\"\"\n",
    "    start_point = np.array([1, 1], dtype = \"int\") + np.array(direction, dtype = \"int\")\n",
    "    end_point = start_point + m.shape - 2\n",
    "    \n",
    "    return m[start_point[0]:end_point[0], start_point[1]:end_point[1]]\n",
    "\n",
    "def step(m):\n",
    "    padded_m = np.pad(m, 1, mode = \"constant\", constant_values = -np.inf)\n",
    "    \n",
    "    previous_padded_m = padded_m.copy()\n",
    "    \n",
    "    padded_m = padded_m + 1\n",
    "    \n",
    "    while np.any(np.logical_and(padded_m > 9, previous_padded_m <= 9)):\n",
    "        to_add = np.zeros(m.shape, dtype = \"int\")\n",
    "        \n",
    "        for i in [-1, 0, 1]:\n",
    "            for j in [-1, 0, 1]:\n",
    "                if i == 0 and j == 0:\n",
    "                    continue\n",
    "\n",
    "                to_add = to_add + (np.logical_and(shift_matrix(padded_m, [i, j]) > 9, shift_matrix(previous_padded_m, [i, j]) <= 9)).astype(\"int\")\n",
    "        \n",
    "        to_add = np.pad(to_add, 1)\n",
    "        previous_padded_m = padded_m.copy()\n",
    "        padded_m = padded_m + to_add\n",
    "        \n",
    "    padded_m[padded_m > 9] = 0\n",
    "    \n",
    "    return padded_m[1:11, 1:11]\n",
    "            "
   ]
  },
  {
   "cell_type": "code",
   "execution_count": 4,
   "metadata": {},
   "outputs": [
    {
     "data": {
      "text/plain": [
       "1717"
      ]
     },
     "execution_count": 4,
     "metadata": {},
     "output_type": "execute_result"
    }
   ],
   "source": [
    "m = octopodes\n",
    "flashes = 0\n",
    "\n",
    "for i in range(100):\n",
    "    m = step(m)\n",
    "    flashes = flashes + np.sum(m == 0, dtype = \"int\")\n",
    "    \n",
    "flashes"
   ]
  },
  {
   "cell_type": "code",
   "execution_count": 5,
   "metadata": {},
   "outputs": [
    {
     "data": {
      "text/plain": [
       "476"
      ]
     },
     "execution_count": 5,
     "metadata": {},
     "output_type": "execute_result"
    }
   ],
   "source": [
    "m = octopodes\n",
    "iteration = 0\n",
    "\n",
    "while np.sum(m) > 0:\n",
    "    m = step(m)\n",
    "    iteration = iteration + 1\n",
    "    \n",
    "iteration"
   ]
  }
 ],
 "metadata": {
  "kernelspec": {
   "display_name": "Python 3",
   "language": "python",
   "name": "python3"
  },
  "language_info": {
   "codemirror_mode": {
    "name": "ipython",
    "version": 3
   },
   "file_extension": ".py",
   "mimetype": "text/x-python",
   "name": "python",
   "nbconvert_exporter": "python",
   "pygments_lexer": "ipython3",
   "version": "3.8.3"
  }
 },
 "nbformat": 4,
 "nbformat_minor": 4
}
