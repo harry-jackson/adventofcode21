{
 "cells": [
  {
   "cell_type": "markdown",
   "metadata": {},
   "source": [
    "# Day 14\n",
    "\n",
    "https://adventofcode.com/2021/day/14\n",
    "\n",
    "The string length increases exponentially so trying to generate the whole thing won't work. Instead notice that for each pair of letters, the total number of letters the pair will turn into after each time step has a recurrence relation with two other pairs of letters at the previous time step. Use these recurrence relations to work out the letter totals for each pair up to 40 steps, then read off the answers for the given string. "
   ]
  },
  {
   "cell_type": "code",
   "execution_count": 1,
   "metadata": {},
   "outputs": [],
   "source": [
    "import numpy as np"
   ]
  },
  {
   "cell_type": "code",
   "execution_count": 2,
   "metadata": {},
   "outputs": [],
   "source": [
    "with open(\"input_14.txt\", \"r\") as f:\n",
    "    raw = f.readlines()\n",
    "\n",
    "raw = [r.replace('\\n', '') for r in raw]\n",
    "    \n",
    "real_input = raw[0]\n",
    "\n",
    "rules = raw[2:]\n",
    "rules = {key: value for key, value in [r.split(\" -> \") for r in rules]}"
   ]
  },
  {
   "cell_type": "code",
   "execution_count": 3,
   "metadata": {},
   "outputs": [],
   "source": [
    "def step(s, rules):\n",
    "    res = ''\n",
    "    for c_0, c_1 in zip(s[:-1], s[1:]):\n",
    "        res = res + c_0\n",
    "        key = c_0 + c_1\n",
    "        if key in rules:\n",
    "            res = res + rules[key]\n",
    "            \n",
    "    res = res + s[-1]\n",
    "    \n",
    "    return res"
   ]
  },
  {
   "cell_type": "code",
   "execution_count": 4,
   "metadata": {},
   "outputs": [],
   "source": [
    "letters = set(real_input)\n",
    "for r in rules:\n",
    "    letters.add(r[0])\n",
    "    letters.add(r[1])\n",
    "    \n",
    "letter_index = {l: i for i, l in enumerate(letters)}\n",
    "\n",
    "def count_letters(s):\n",
    "    res = np.zeros(len(letter_index), dtype = \"int64\")\n",
    "    for c in s:\n",
    "        res[letter_index[c]] = res[letter_index[c]] + 1\n",
    "    return res\n",
    "\n",
    "letter_counts = dict()\n",
    "single_letter_counts = dict()\n",
    "\n",
    "for l in letter_index:\n",
    "    single_letter_counts[l] = count_letters(l)\n",
    "    \n",
    "for r in rules:\n",
    "    letter_counts[r] = [count_letters(r[0])]\n",
    "    \n",
    "recursions = {key: (key[0] + value, value + key[1]) for key, value in zip(rules.keys(), rules.values())}\n",
    "\n",
    "for i in range(1, 41):\n",
    "    for lc in letter_counts:\n",
    "        rs_0, rs_1 = recursions[lc]\n",
    "        letter_counts[lc].append(letter_counts[rs_0][i - 1] + letter_counts[rs_1][i - 1])\n",
    "        \n",
    "def count_total(s, i):\n",
    "    total = np.zeros(len(letter_index), dtype = \"int\")\n",
    "\n",
    "    for c_0, c_1 in zip(s[:-1], s[1:]):\n",
    "        total = total + letter_counts[c_0 + c_1][i]\n",
    "\n",
    "    total = total + single_letter_counts[s[-1]]\n",
    "    \n",
    "    return total"
   ]
  },
  {
   "cell_type": "code",
   "execution_count": 5,
   "metadata": {},
   "outputs": [
    {
     "data": {
      "text/plain": [
       "2549"
      ]
     },
     "execution_count": 5,
     "metadata": {},
     "output_type": "execute_result"
    }
   ],
   "source": [
    "total_10 = count_total(real_input, 10)\n",
    "    \n",
    "max(total_10) - min(total_10)"
   ]
  },
  {
   "cell_type": "code",
   "execution_count": 6,
   "metadata": {},
   "outputs": [
    {
     "data": {
      "text/plain": [
       "2516901104210"
      ]
     },
     "execution_count": 6,
     "metadata": {},
     "output_type": "execute_result"
    }
   ],
   "source": [
    "total_40 = count_total(real_input, 40)\n",
    "    \n",
    "max(total_40) - min(total_40)"
   ]
  }
 ],
 "metadata": {
  "kernelspec": {
   "display_name": "Python 3",
   "language": "python",
   "name": "python3"
  },
  "language_info": {
   "codemirror_mode": {
    "name": "ipython",
    "version": 3
   },
   "file_extension": ".py",
   "mimetype": "text/x-python",
   "name": "python",
   "nbconvert_exporter": "python",
   "pygments_lexer": "ipython3",
   "version": "3.8.3"
  }
 },
 "nbformat": 4,
 "nbformat_minor": 4
}
