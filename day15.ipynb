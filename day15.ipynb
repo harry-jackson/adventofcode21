{
 "cells": [
  {
   "cell_type": "markdown",
   "metadata": {},
   "source": [
    "# Day 15\n",
    "\n",
    "https://adventofcode.com/2021/day/15\n",
    "\n",
    "Short paths will generally move mostly down or right, so start by assuming the shortest path will only do that. Starting from the bottom right calculate the shorted path cost from each square (the cost of that square + the minimum shorted path cost out of the square below & square to the right). This is our initial cost matrix. \n",
    "\n",
    "Plugging square 1's cost from the initial matrix in to the website indicates it's too high, so the path must go up or to the left at some point. So starting with our initial cost matrix, for each square, look at the squares in all 4 directions and see if there's a way to reduce the cost by going in a different direction - if so, adjust the minimum path cost. Repeat this process until the solution converges and the numbers don't change any more. \n",
    "\n",
    "Part 2 is the same thing with a 25x larger matrix, fortunately numpy is fast enough to handle it quickly. "
   ]
  },
  {
   "cell_type": "code",
   "execution_count": 1,
   "metadata": {},
   "outputs": [],
   "source": [
    "import numpy as np"
   ]
  },
  {
   "cell_type": "code",
   "execution_count": 2,
   "metadata": {},
   "outputs": [],
   "source": [
    "with open(\"input_15.txt\", \"r\") as f:\n",
    "    raw = f.readlines()\n",
    "    \n",
    "m = np.array([list(x.replace(\"\\n\", \"\")) for x in raw], dtype = \"int\")"
   ]
  },
  {
   "cell_type": "code",
   "execution_count": 3,
   "metadata": {},
   "outputs": [
    {
     "data": {
      "text/plain": [
       "388.0"
      ]
     },
     "execution_count": 3,
     "metadata": {},
     "output_type": "execute_result"
    }
   ],
   "source": [
    "def make_cost_matrix(m):\n",
    "    \"\"\"For a cost matrix m, assume that paths can only move down or to the right. \n",
    "    Return the minimum cost from each point.\"\"\"\n",
    "    cost = np.zeros(m.shape) - 1\n",
    "    \n",
    "    def get_cost(i, j):\n",
    "        if i >= m.shape[0] or j >= m.shape[1] or i < 0 or j < 0:\n",
    "            return np.inf\n",
    "        if cost[i, j] < 0:\n",
    "            raise Exception(\"cost not filled in\")\n",
    "        return cost[i, j]\n",
    "    \n",
    "    for i in range(m.shape[0] - 1, -1, -1):\n",
    "        for j in range(m.shape[1] - 1, -1, -1):\n",
    "            \n",
    "            if i == m.shape[0] - 1 and j == m.shape[1] - 1:\n",
    "                cost[i, j] = m[i, j]\n",
    "                continue\n",
    "            elif i == 0 and j == 0:\n",
    "                self_cost = 0\n",
    "            else:\n",
    "                self_cost = m[i, j]\n",
    "\n",
    "            down_cost = get_cost(i + 1, j)\n",
    "            right_cost = get_cost(i, j + 1)\n",
    "            best_cost = min(down_cost, right_cost)\n",
    "            cost[i, j] = self_cost + best_cost\n",
    "            \n",
    "    return cost\n",
    "\n",
    "cost = make_cost_matrix(m)\n",
    "\n",
    "cost[0, 0]"
   ]
  },
  {
   "cell_type": "code",
   "execution_count": 4,
   "metadata": {},
   "outputs": [
    {
     "data": {
      "text/plain": [
       "386.0"
      ]
     },
     "execution_count": 4,
     "metadata": {},
     "output_type": "execute_result"
    }
   ],
   "source": [
    "def shift_matrix(m, dir):\n",
    "    \"\"\"Shift matrix m in direction dir (expressed as a pair of integers between -1 and 1, e.g. [0, 1])\"\"\"\n",
    "    m = np.pad(m, 1, mode = \"constant\", constant_values = np.inf)\n",
    "    start_point = np.array([1, 1], dtype = \"int\") + np.array(dir, dtype = \"int\")\n",
    "    end_point = start_point + m.shape - 2\n",
    "    \n",
    "    return m[start_point[0]:end_point[0], start_point[1]:end_point[1]]\n",
    "\n",
    "def minimise_cost(m, cost):\n",
    "    \"\"\"Given a matrix of minimum path costs moving only down or to the right, return the minimum costs where\n",
    "    movement in any direction is allowed.\"\"\"\n",
    "    m_2 = m.copy()\n",
    "    m_2[0, 0] = 0\n",
    "    \n",
    "    cost_2 = cost.copy()\n",
    "\n",
    "    previous_cost_2 = np.zeros(cost_2.shape)\n",
    "    \n",
    "    while not np.all(previous_cost_2 == cost_2):\n",
    "        previous_cost_2 = cost_2.copy()\n",
    "        for d in [[0, 1], [0, -1], [1, 0], [-1, 0]]:\n",
    "            new_cost = m_2 + shift_matrix(cost_2, d)\n",
    "            cost_2[new_cost < cost_2] = new_cost[new_cost < cost_2]\n",
    "    \n",
    "    return cost_2\n",
    "        \n",
    "minimise_cost(m, cost)[0, 0]"
   ]
  },
  {
   "cell_type": "code",
   "execution_count": 5,
   "metadata": {},
   "outputs": [],
   "source": [
    "def increment_m(m, n):\n",
    "    \"\"\"Return the matrix on row m, column n of the larger matrix.\"\"\"\n",
    "    res = m.copy()\n",
    "    for _ in range(n):\n",
    "        res = res + 1\n",
    "        res[res > 9] = 1\n",
    "    return res\n",
    "\n",
    "m_0 = m.shape[0]\n",
    "m_1 = m.shape[1]\n",
    "\n",
    "big_m = np.zeros((5 * m_0, 5 * m_1), dtype = \"int\")\n",
    "\n",
    "for i in range(5):\n",
    "    for j in range(5):\n",
    "        big_m[(m_0 * i):(m_0 * (i + 1)), (m_1 * j):(m_1 * (j + 1))] = increment_m(m, i + j)"
   ]
  },
  {
   "cell_type": "code",
   "execution_count": 6,
   "metadata": {},
   "outputs": [
    {
     "data": {
      "text/plain": [
       "2806.0"
      ]
     },
     "execution_count": 6,
     "metadata": {},
     "output_type": "execute_result"
    }
   ],
   "source": [
    "big_cost = make_cost_matrix(big_m)\n",
    "minimise_cost(big_m, big_cost)[0, 0]"
   ]
  }
 ],
 "metadata": {
  "kernelspec": {
   "display_name": "Python 3",
   "language": "python",
   "name": "python3"
  },
  "language_info": {
   "codemirror_mode": {
    "name": "ipython",
    "version": 3
   },
   "file_extension": ".py",
   "mimetype": "text/x-python",
   "name": "python",
   "nbconvert_exporter": "python",
   "pygments_lexer": "ipython3",
   "version": "3.8.3"
  }
 },
 "nbformat": 4,
 "nbformat_minor": 4
}
