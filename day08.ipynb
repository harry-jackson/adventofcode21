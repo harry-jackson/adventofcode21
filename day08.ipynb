{
 "cells": [
  {
   "cell_type": "markdown",
   "metadata": {},
   "source": [
    "# Day 8\n",
    "\n",
    "https://adventofcode.com/2021/day/8\n",
    "\n",
    "The question suggests solving this as a logic puzzle by writing rules for which combinations of signals can occur together. It's easier to just count the number of occurences and co-occurences of each letter in all the codes - this provides enough information to determine the mapping. \n",
    "\n",
    "For each letter:\n",
    "* Count how many times that letter occurs in all the digit codes $\\to$ n_1\n",
    "* Count the co-occurences of each letter with each other letter, and add these up $\\to$ n_2 (i.e. for a, n_2 is the total occurences of ab + ac + ad + ae + af + ag)\n",
    "* Concatenate n_1 and n_2 to a 3-digit sequence\n",
    "\n",
    "This sequence is unique for each letter, so we can use the sequences to map back to the correct letters."
   ]
  },
  {
   "cell_type": "code",
   "execution_count": 1,
   "metadata": {},
   "outputs": [],
   "source": [
    "import numpy as np"
   ]
  },
  {
   "cell_type": "code",
   "execution_count": 2,
   "metadata": {},
   "outputs": [],
   "source": [
    "with open(\"input_08.txt\", \"r\") as f:\n",
    "    inp = f.readlines()\n",
    "    \n",
    "inp = [(a, b.replace(\"\\n\", \"\")) for a, b in [x.split(\" | \") for x in inp]]\n",
    "\n",
    "digits = [a.split(\" \") for a, b in inp]\n",
    "\n",
    "results = [b.split(\" \") for a, b in inp]\n",
    "\n",
    "codes = {\n",
    "    'abcefg': 0,\n",
    "    'cf': 1,\n",
    "    'acdeg': 2,\n",
    "    'acdfg': 3,\n",
    "    'bcdf': 4,\n",
    "    'abdfg': 5,\n",
    "    'abdefg': 6,\n",
    "    'acf': 7,\n",
    "    'abcdefg': 8,\n",
    "    'abcdfg': 9\n",
    "}"
   ]
  },
  {
   "cell_type": "code",
   "execution_count": 3,
   "metadata": {},
   "outputs": [],
   "source": [
    "letters = \"abcdefg\"\n",
    "\n",
    "def letter_pairs(ltr):\n",
    "    \"\"\"All pairs of ltr + a different letter from abcdefg\"\"\"\n",
    "    return [ltr + letter for letter in letters if letter != ltr]\n",
    "\n",
    "def check_contains(t, w):\n",
    "    \"\"\"For strings t and w, return True iff. all characters of t are in w\"\"\"\n",
    "    return all([x in w for x in t])\n",
    "\n",
    "def n_digits_contain(l, codes):\n",
    "    \"\"\"Number of codes that contain the letter/letter pair l\"\"\"\n",
    "    return sum([check_contains(l, w) for w in codes])\n",
    "\n",
    "def sequence(ltr, codes):\n",
    "    \"\"\"Sequence of letter occurences + co-occurences for ltr in codes\"\"\"\n",
    "    n_1 = n_digits_contain(ltr, codes)\n",
    "    n_2 = np.sum([n_digits_contain(pair, codes) for pair in letter_pairs(ltr)])\n",
    "    \n",
    "    return str(n_1) + str(n_2)\n",
    "\n",
    "sequence_map = {sequence(ltr, codes.keys()): ltr for ltr in \"abcdefg\"}\n",
    "\n",
    "def fix_results(digits, result):\n",
    "    \"\"\"Map encoded digits + result to decoded result\"\"\"\n",
    "    sequences = [sequence(ltr, digits) for ltr in \"abcdefg\"]\n",
    "    \n",
    "    fixed_mapping = dict(zip(list(\"abcdefg\"), [sequence_map[x] for x in sequences]))\n",
    "    \n",
    "    fixed_results = [''.join(sorted([fixed_mapping[c] for c in w])) for w in result]\n",
    "    \n",
    "    return np.array([codes[x] for x in fixed_results])"
   ]
  },
  {
   "cell_type": "code",
   "execution_count": 4,
   "metadata": {},
   "outputs": [
    {
     "data": {
      "text/plain": [
       "{'835': 'a',\n",
       " '628': 'b',\n",
       " '830': 'c',\n",
       " '731': 'd',\n",
       " '420': 'e',\n",
       " '935': 'f',\n",
       " '733': 'g'}"
      ]
     },
     "execution_count": 4,
     "metadata": {},
     "output_type": "execute_result"
    }
   ],
   "source": [
    "sequence_map"
   ]
  },
  {
   "cell_type": "code",
   "execution_count": 5,
   "metadata": {},
   "outputs": [
    {
     "data": {
      "text/plain": [
       "514"
      ]
     },
     "execution_count": 5,
     "metadata": {},
     "output_type": "execute_result"
    }
   ],
   "source": [
    "res = [fix_results(a, b) for a, b in zip(digits, results)]\n",
    "\n",
    "# part 1\n",
    "sum([np.sum(np.isin(a, [1, 4, 7, 8])) for a in res])"
   ]
  },
  {
   "cell_type": "code",
   "execution_count": 6,
   "metadata": {},
   "outputs": [
    {
     "data": {
      "text/plain": [
       "1012272"
      ]
     },
     "execution_count": 6,
     "metadata": {},
     "output_type": "execute_result"
    }
   ],
   "source": [
    "# part 2\n",
    "p_10 = np.power(10, [3, 2, 1, 0])\n",
    "\n",
    "sum([np.sum(a * p_10) for a in res])"
   ]
  }
 ],
 "metadata": {
  "kernelspec": {
   "display_name": "Python 3",
   "language": "python",
   "name": "python3"
  },
  "language_info": {
   "codemirror_mode": {
    "name": "ipython",
    "version": 3
   },
   "file_extension": ".py",
   "mimetype": "text/x-python",
   "name": "python",
   "nbconvert_exporter": "python",
   "pygments_lexer": "ipython3",
   "version": "3.8.3"
  }
 },
 "nbformat": 4,
 "nbformat_minor": 5
}
