{
 "cells": [
  {
   "cell_type": "markdown",
   "metadata": {},
   "source": [
    "# Day 13\n",
    "\n",
    "https://adventofcode.com/2021/day/13\n",
    "\n",
    "When the paper is folded vertically along a line y = v, a point below the fold with position \\[x, y\\] will go to \\[x, 2 * v - y\\] (and similarly for horizontal folds). So just do that repeatedly and remove duplicate points at the same location. "
   ]
  },
  {
   "cell_type": "code",
   "execution_count": 1,
   "metadata": {},
   "outputs": [],
   "source": [
    "import numpy as np"
   ]
  },
  {
   "cell_type": "code",
   "execution_count": 2,
   "metadata": {},
   "outputs": [],
   "source": [
    "test_input = np.array([\n",
    "    [6, 10],\n",
    "    [0, 14],\n",
    "    [9, 10],\n",
    "    [0, 3],\n",
    "    [10, 4],\n",
    "    [4, 11],\n",
    "    [6, 0],\n",
    "    [6, 12],\n",
    "    [4, 1],\n",
    "    [0, 13],\n",
    "    [10, 12],\n",
    "    [3, 4],\n",
    "    [3, 0],\n",
    "    [0, 4],\n",
    "    [1, 10],\n",
    "    [2, 14],\n",
    "    [8, 10],\n",
    "    [9, 0]\n",
    "])\n",
    "\n",
    "test_commands_raw = [\"fold along y=7\", \"fold along x=5\"]"
   ]
  },
  {
   "cell_type": "code",
   "execution_count": 3,
   "metadata": {},
   "outputs": [],
   "source": [
    "with open(\"input_13.txt\", \"r\") as f:\n",
    "    raw = f.readlines()\n",
    "    \n",
    "raw = [x.replace(\"\\n\", \"\") for x in raw]\n",
    "    \n",
    "real_input = []\n",
    "real_commands_raw = []\n",
    "\n",
    "for row in raw:\n",
    "    if row != '':\n",
    "        if row[:4] == \"fold\":\n",
    "            real_commands_raw.append(row)\n",
    "        else:\n",
    "            real_input.append(row.split(\",\"))\n",
    "            \n",
    "real_input = np.array(real_input, dtype = \"int\")"
   ]
  },
  {
   "cell_type": "code",
   "execution_count": 4,
   "metadata": {},
   "outputs": [],
   "source": [
    "direction_to_index = {\n",
    "    \"x\": 0,\n",
    "    \"y\": 1\n",
    "}\n",
    "\n",
    "def text_to_vector(command):\n",
    "    direction, value = command.replace(\"fold along \", \"\").split(\"=\")\n",
    "    res = np.zeros(2, dtype = \"int\")\n",
    "    \n",
    "    res[direction_to_index[direction]] = int(value)\n",
    "    return res\n",
    "\n",
    "test_commands = [text_to_vector(c) for c in test_commands_raw]\n",
    "\n",
    "def fold_paper(paper, command):\n",
    "    i = np.nonzero(command)[0][0]\n",
    "    v = command[i]\n",
    "    \n",
    "    paper[paper[:, i] > v, i] = 2 * v - paper[paper[:, i] > v, i]\n",
    "    \n",
    "    paper = np.unique(paper, axis = 0)\n",
    "    \n",
    "    return paper\n",
    "\n",
    "def draw_paper(paper):\n",
    "    maxes = np.max(paper, axis = 0) + 1\n",
    "    canvas = np.ones(maxes, dtype = str)\n",
    "    for r in paper:\n",
    "        canvas[r[0], r[1]] = \"#\"\n",
    "        \n",
    "    canvas[canvas == '1'] = '.'\n",
    "        \n",
    "    return canvas"
   ]
  },
  {
   "cell_type": "code",
   "execution_count": 6,
   "metadata": {},
   "outputs": [
    {
     "name": "stdout",
     "output_type": "stream",
     "text": [
      "[['#' '#' '#' '#' '#']\n",
      " ['#' '.' '.' '.' '#']\n",
      " ['#' '.' '.' '.' '#']\n",
      " ['#' '.' '.' '.' '#']\n",
      " ['#' '#' '#' '#' '#']]\n"
     ]
    }
   ],
   "source": [
    "test_res = test_input.copy()\n",
    "for c in test_commands:\n",
    "    test_res = fold_paper(test_res, c)\n",
    "    \n",
    "print(draw_paper(test_res))"
   ]
  },
  {
   "cell_type": "code",
   "execution_count": 7,
   "metadata": {},
   "outputs": [
    {
     "data": {
      "text/plain": [
       "669"
      ]
     },
     "execution_count": 7,
     "metadata": {},
     "output_type": "execute_result"
    }
   ],
   "source": [
    "real_commands = [text_to_vector(c) for c in real_commands_raw]\n",
    "\n",
    "fold_paper(real_input.copy(), real_commands[0]).shape[0]"
   ]
  },
  {
   "cell_type": "code",
   "execution_count": 8,
   "metadata": {},
   "outputs": [
    {
     "name": "stdout",
     "output_type": "stream",
     "text": [
      "[['#' '#' '#' '#' '#' '.']\n",
      " ['.' '.' '.' '.' '.' '#']\n",
      " ['.' '.' '.' '.' '.' '#']\n",
      " ['#' '#' '#' '#' '#' '.']\n",
      " ['.' '.' '.' '.' '.' '.']\n",
      " ['#' '#' '#' '#' '#' '#']\n",
      " ['#' '.' '#' '.' '.' '#']\n",
      " ['#' '.' '#' '.' '.' '#']\n",
      " ['#' '.' '.' '.' '.' '#']\n",
      " ['.' '.' '.' '.' '.' '.']\n",
      " ['#' '#' '#' '#' '#' '#']\n",
      " ['#' '.' '#' '.' '.' '.']\n",
      " ['#' '.' '#' '.' '.' '.']\n",
      " ['#' '.' '.' '.' '.' '.']\n",
      " ['.' '.' '.' '.' '.' '.']\n",
      " ['#' '.' '.' '.' '#' '#']\n",
      " ['#' '.' '.' '#' '.' '#']\n",
      " ['#' '.' '#' '.' '.' '#']\n",
      " ['#' '#' '.' '.' '.' '#']\n",
      " ['.' '.' '.' '.' '.' '.']\n",
      " ['.' '#' '#' '#' '#' '.']\n",
      " ['#' '.' '.' '.' '.' '#']\n",
      " ['#' '.' '.' '.' '.' '#']\n",
      " ['.' '#' '.' '.' '#' '.']\n",
      " ['.' '.' '.' '.' '.' '.']\n",
      " ['#' '#' '#' '#' '#' '.']\n",
      " ['.' '.' '.' '.' '.' '#']\n",
      " ['.' '.' '.' '.' '.' '#']\n",
      " ['#' '#' '#' '#' '#' '.']\n",
      " ['.' '.' '.' '.' '.' '.']\n",
      " ['.' '#' '#' '#' '#' '.']\n",
      " ['#' '.' '.' '.' '.' '#']\n",
      " ['#' '.' '.' '.' '.' '#']\n",
      " ['.' '#' '.' '.' '#' '.']\n",
      " ['.' '.' '.' '.' '.' '.']\n",
      " ['.' '.' '.' '.' '#' '.']\n",
      " ['.' '.' '.' '.' '.' '#']\n",
      " ['#' '.' '.' '.' '.' '#']\n",
      " ['#' '#' '#' '#' '#' '.']]\n"
     ]
    },
    {
     "data": {
      "text/plain": [
       "'UEFZCUCJ'"
      ]
     },
     "execution_count": 8,
     "metadata": {},
     "output_type": "execute_result"
    }
   ],
   "source": [
    "res = real_input.copy()\n",
    "for c in real_commands:\n",
    "    res = fold_paper(res, c)\n",
    "    \n",
    "canvas = draw_paper(res)\n",
    "\n",
    "print(canvas)\n",
    "\n",
    "# tilt head and read answer using a mirror\n",
    "'UEFZCUCJ'"
   ]
  }
 ],
 "metadata": {
  "kernelspec": {
   "display_name": "Python 3",
   "language": "python",
   "name": "python3"
  },
  "language_info": {
   "codemirror_mode": {
    "name": "ipython",
    "version": 3
   },
   "file_extension": ".py",
   "mimetype": "text/x-python",
   "name": "python",
   "nbconvert_exporter": "python",
   "pygments_lexer": "ipython3",
   "version": "3.8.3"
  }
 },
 "nbformat": 4,
 "nbformat_minor": 4
}
