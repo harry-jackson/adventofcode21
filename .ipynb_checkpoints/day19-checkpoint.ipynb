{
 "cells": [
  {
   "cell_type": "markdown",
   "metadata": {},
   "source": [
    "# Day 19\n",
    "\n",
    "https://adventofcode.com/2021/day/19\n",
    "\n",
    "We have scanners scanning overlapping regions of beacons. Scanners can be oriented in any of 24 x, y, z directions. We can say two scanners overlap if there are at least 12 beacons they can both see. \n",
    "\n",
    "For each beacon in each scanner region, we look at the manhattan distance between that beacon and every other beacon. If we find a beacon in another scanner region with at least 12 matching distances, we can say that it's the same beacon and the two scanners overlap. We can now think of this as a network where each node is a scanner and there is an edge between two scanners if they overlap. We draw a directed minimum spanning tree of this network starting at scanner 0.\n",
    "\n",
    "We then need to work out the relative orientation and position of each pair of overlapping scanners - represented by a rotation matrix and a translation vector. We draw a vector between two matching beacons in overlapping scanners. We then try each of 24 possible rotation matrices until we find one that orients these vectors in the same direction. This is the rotation matrix between the two scanners. \n",
    "\n",
    "To find the translation vector we then just need to subtract the position of any matching beacon relative to the two scanners, after applying the rotation matrix. \n",
    "\n",
    "By recursively applying rotation matrices and translation vectors across the spanning tree we can then find the position of every beacon relative to scanner 0, and therefore the number of unique beacons.\n",
    "\n",
    "For part 2 we can apply the rotation matrices to the translation vectors in order to find the position of each scanner relative to 0, and therefore the largest distance between scanners. "
   ]
  },
  {
   "cell_type": "code",
   "execution_count": 1,
   "metadata": {},
   "outputs": [],
   "source": [
    "import numpy as np\n",
    "import re\n",
    "import pandas as pd\n",
    "import networkx as nx"
   ]
  },
  {
   "cell_type": "code",
   "execution_count": 2,
   "metadata": {},
   "outputs": [],
   "source": [
    "\"\"\"Calculate the 24 rotation matrices to rotate between orientations.\"\"\"\n",
    "\n",
    "R_x = np.array([[1, 0, 0], [0, 0, -1], [0, 1, 0]], dtype = \"int\")\n",
    "\n",
    "R_y = np.array([[0, 0, 1], [0, 1, 0], [-1, 0, 0]], dtype = \"int\")\n",
    "\n",
    "R_z = np.array([[0, -1, 0], [1, 0, 0], [0, 0, 1]], dtype = \"int\")\n",
    "\n",
    "xy_rotation_matrices = [\n",
    "    np.identity(3, dtype = \"int\"),\n",
    "    R_x,\n",
    "    np.matmul(R_x, R_x),\n",
    "    np.matmul(np.matmul(R_x, R_x), R_x),\n",
    "    R_y,\n",
    "    np.matmul(np.matmul(R_y, R_y), R_y)\n",
    "]\n",
    "\n",
    "rotation_matrices = []\n",
    "for xy_r in xy_rotation_matrices:\n",
    "    rotation_matrices.append(xy_r)\n",
    "    rotation_matrices.append(np.matmul(R_z, xy_r))\n",
    "    rotation_matrices.append(np.matmul(np.matmul(R_z, R_z), xy_r))\n",
    "    rotation_matrices.append(np.matmul(np.matmul(np.matmul(R_z, R_z), R_z), xy_r))\n"
   ]
  },
  {
   "cell_type": "code",
   "execution_count": 3,
   "metadata": {},
   "outputs": [],
   "source": [
    "input_file = \"input_19.txt\"\n",
    "\n",
    "pattern = re.compile(\"(?<=scanner )[0-9]+\")\n",
    "d = dict()\n",
    "for l in open(input_file, \"r\"):\n",
    "    line = l.replace(\"\\n\", \"\")\n",
    "    if line == \"\":\n",
    "        continue\n",
    "    matches = pattern.findall(line)\n",
    "    if len(matches) > 0:\n",
    "        n = int(matches[0])\n",
    "        d[n] = []\n",
    "    else:\n",
    "        coords = np.array(line.split(\",\"), dtype = \"int\")\n",
    "        d[n].append(coords)"
   ]
  },
  {
   "cell_type": "code",
   "execution_count": 4,
   "metadata": {},
   "outputs": [],
   "source": [
    "def manhattan(a, b):\n",
    "    return np.sum(np.abs(a - b))\n",
    "\n",
    "def manhattan_distances(l):\n",
    "    \"\"\"Manhattan distances between every pair of vectors in l\"\"\"\n",
    "    res = []\n",
    "    for x in l:\n",
    "        res.append(sorted([manhattan(y, x) for y in l]))\n",
    "    return res\n",
    "\n",
    "scanner_distances = {name: manhattan_distances(d[name]) for name in d}"
   ]
  },
  {
   "cell_type": "code",
   "execution_count": 5,
   "metadata": {},
   "outputs": [
    {
     "name": "stdout",
     "output_type": "stream",
     "text": [
      "Minimum Spanning Tree\n"
     ]
    },
    {
     "data": {
      "image/png": "[encoded data removed]",
      "text/plain": [
       "<Figure size 432x288 with 1 Axes>"
      ]
     },
     "metadata": {},
     "output_type": "display_data"
    }
   ],
   "source": [
    "from collections import Counter as mset\n",
    "\n",
    "def list_intersection(x, y):\n",
    "    \"\"\"Non-unique intersection between two lists (e.g. list_intersection of [a, a, b, c] and [a, a, b, d] is [a, a, b])\"\"\"\n",
    "    intersection = mset(x) & mset(y)\n",
    "    return len(list(intersection.elements()))\n",
    "\n",
    "def match_stars(sd_1, sd_2, n = np.inf):\n",
    "    \"\"\"Return n matched stars between scanners with distances sd_1 and sd_2. \n",
    "    Stars match if they have at least 12 equal manhattan distances to other stars in the scanner.\"\"\"\n",
    "    res = []\n",
    "    for i, x in enumerate(sd_1):\n",
    "        for j, y in enumerate(sd_2):\n",
    "            n_common_distances = list_intersection(x, y)\n",
    "            if n_common_distances >= 12:\n",
    "                res.append((i, j))\n",
    "                if len(res) >= n:\n",
    "                    return res\n",
    "    return res\n",
    "\n",
    "def is_connected(sd_1, sd_2):\n",
    "    return len(match_stars(sd_1, sd_2)) > 0\n",
    "\n",
    "\"\"\"Build minimum spanning tree of scanner network.\"\"\"\n",
    "\n",
    "G = nx.DiGraph()\n",
    "\n",
    "G.add_node(0)\n",
    "nx.set_node_attributes(G, {0: {\"completed\": False}})\n",
    "\n",
    "while len(G.nodes) < len(scanner_distances):\n",
    "    node_data = {}\n",
    "    edge_data = {}\n",
    "    for i in G.nodes:\n",
    "        if G.nodes[i][\"completed\"]:\n",
    "            continue\n",
    "        for j in range(len(scanner_distances)):\n",
    "            if j in G.nodes or j in node_data:\n",
    "                continue\n",
    "            matched_stars = match_stars(scanner_distances[i], scanner_distances[j], n = 2)\n",
    "            if len(matched_stars) == 2:\n",
    "                node_data[j] = {\"completed\": False}\n",
    "                \n",
    "                i_0 = d[i][matched_stars[0][0]]\n",
    "                j_0 = d[j][matched_stars[0][1]]\n",
    "                i_1 = d[i][matched_stars[1][0]]\n",
    "                j_1 = d[j][matched_stars[1][1]]\n",
    "                v_i = i_1 - i_0\n",
    "                v_j = j_1 - j_0\n",
    "                edge_data[(i, j)] = {\"i_0\": i_0, \"j_0\": j_0, \"v_i\": v_i, \"v_j\": v_j}\n",
    "        \n",
    "        nx.set_node_attributes(G, {i: {\"completed\": True}})\n",
    "    \n",
    "    for n in node_data:\n",
    "        G.add_node(n)\n",
    "    \n",
    "    for e in edge_data:\n",
    "        G.add_edge(e[0], e[1])\n",
    "        \n",
    "    nx.set_node_attributes(G, node_data)\n",
    "    nx.set_edge_attributes(G, edge_data)\n",
    "\n",
    "print(\"Minimum Spanning Tree\")\n",
    "nx.draw(G)"
   ]
  },
  {
   "cell_type": "code",
   "execution_count": 6,
   "metadata": {
    "scrolled": true
   },
   "outputs": [
    {
     "data": {
      "text/plain": [
       "434"
      ]
     },
     "execution_count": 6,
     "metadata": {},
     "output_type": "execute_result"
    }
   ],
   "source": [
    "def rotation_matrix(v_1, v_2):\n",
    "    \"\"\"Return the rotation matrix that makes v_1 parallel to v_2\"\"\"\n",
    "    for rm in rotation_matrices:\n",
    "        if np.abs(np.sum(np.cross(np.matmul(rm, v_1), v_2))) < 0.000001:\n",
    "            return rm\n",
    "\n",
    "def translation_vector(v_1, v_2):\n",
    "    \"\"\"Return the translation vector that makes v_1 == v_2\"\"\"\n",
    "    return v_2 - v_1\n",
    "\n",
    "def transformations(G, edge):\n",
    "    \"\"\"Return the rotation matrix and translation vector between the two scanners on this edge of G\"\"\"\n",
    "    edge_data = G.get_edge_data(*edge)\n",
    "    rm = rotation_matrix(edge_data[\"v_j\"], edge_data[\"v_i\"])\n",
    "    tv = translation_vector(np.matmul(rm, edge_data[\"j_0\"]), edge_data[\"i_0\"])\n",
    "    return {\"rotation_matrix\": rm, \"translation_vector\": tv}\n",
    "\n",
    "transformation_data = {edge: transformations(G, edge) for edge in G.edges}\n",
    "\n",
    "nx.set_edge_attributes(G, transformation_data)\n",
    "\n",
    "def transform_beacons(G, i):\n",
    "    \"\"\"Transform the scanner distances for every descendant of scanner i so that they are oriented the same as \n",
    "    scanner i.\"\"\"\n",
    "    res = []\n",
    "    for edge in G.out_edges(i):\n",
    "        edge_data = G.get_edge_data(*edge)\n",
    "        rm = edge_data[\"rotation_matrix\"]\n",
    "        tv = edge_data[\"translation_vector\"]\n",
    "        node_data = d[edge[1]]\n",
    "        \n",
    "        self_data = [np.matmul(rm, v) + tv for v in node_data]\n",
    "        \n",
    "        descendants_data = [np.matmul(rm, v) + tv for v in transform_beacons(G, edge[1])]\n",
    "        \n",
    "        res = res + self_data + descendants_data\n",
    "        \n",
    "    return res\n",
    "\n",
    "zero_data = d[0]\n",
    "\n",
    "y = np.unique(np.vstack(zero_data + transform_beacons(G, 0)), axis = 0)\n",
    "y.shape[0]"
   ]
  },
  {
   "cell_type": "code",
   "execution_count": 7,
   "metadata": {},
   "outputs": [
    {
     "data": {
      "text/plain": [
       "11906"
      ]
     },
     "execution_count": 7,
     "metadata": {},
     "output_type": "execute_result"
    }
   ],
   "source": [
    "def scanner_location(node):\n",
    "    \"\"\"Find the position of scanner node relative to scanner 0\"\"\"\n",
    "    if node == 0:\n",
    "        return np.zeros(3, dtype = \"int\")\n",
    "    \n",
    "    path = nx.shortest_path(G, 0, node)\n",
    "    edge_path = list(zip(path[:-1], path[1:]))\n",
    "    \n",
    "    e = edge_path[0]\n",
    "    \n",
    "    v = G.get_edge_data(*e)[\"translation_vector\"]\n",
    "    M = G.get_edge_data(*e)[\"rotation_matrix\"]\n",
    "    \n",
    "    for e in edge_path[1:]:\n",
    "        \n",
    "        v_next = G.get_edge_data(*e)[\"translation_vector\"]\n",
    "        M_next = G.get_edge_data(*e)[\"rotation_matrix\"]\n",
    "        \n",
    "        v = v + np.matmul(M, v_next)\n",
    "        M = np.matmul(M, M_next)\n",
    "        \n",
    "    return v\n",
    "\n",
    "scanner_positions = {node: scanner_location(node) for node in G}\n",
    "\n",
    "largest_distance = 0\n",
    "for a in scanner_positions:\n",
    "    for b in scanner_positions:\n",
    "        new_distance = manhattan(scanner_positions[a], scanner_positions[b])\n",
    "        if new_distance > largest_distance:\n",
    "            largest_distance = new_distance\n",
    "            \n",
    "largest_distance"
   ]
  }
 ],
 "metadata": {
  "kernelspec": {
   "display_name": "Python 3",
   "language": "python",
   "name": "python3"
  },
  "language_info": {
   "codemirror_mode": {
    "name": "ipython",
    "version": 3
   },
   "file_extension": ".py",
   "mimetype": "text/x-python",
   "name": "python",
   "nbconvert_exporter": "python",
   "pygments_lexer": "ipython3",
   "version": "3.8.3"
  }
 },
 "nbformat": 4,
 "nbformat_minor": 4
}
