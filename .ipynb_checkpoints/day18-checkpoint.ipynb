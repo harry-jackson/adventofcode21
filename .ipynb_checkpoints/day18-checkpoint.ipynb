{
 "cells": [
  {
   "cell_type": "markdown",
   "metadata": {},
   "source": [
    "# Day 18\n",
    "\n",
    "https://adventofcode.com/2021/day/18\n",
    "\n",
    "Define two classes - NormalNumber and SnailNumber. Parse the strings into an object tree, with NormalNumbers for the leaves and SnailNumbers for every other node. NormalNumbers have a split method and SnailNumbers have an explode method. Some SnailNumbers are \"simple pairs\" - where each child node is a NormalNumber. We also need two iterator classes - one to loop left to right through all the NormalNumbers and one to do the same for the simple pairs. Then loop through applying the explode and split methods as appropriate until the number is fully reduced. "
   ]
  },
  {
   "cell_type": "code",
   "execution_count": 1,
   "metadata": {},
   "outputs": [],
   "source": [
    "import numpy as np"
   ]
  },
  {
   "cell_type": "code",
   "execution_count": 2,
   "metadata": {},
   "outputs": [],
   "source": [
    "def parse_snail_number(s):\n",
    "    s = list(s[1:-1])\n",
    "    left_part = []\n",
    "    bracket_count = 0\n",
    "    \n",
    "    for i in range(len(s)):\n",
    "        l = s.pop(0)\n",
    "        if l == \"[\":\n",
    "            bracket_count = bracket_count + 1\n",
    "        elif l == \"]\":\n",
    "            bracket_count = bracket_count - 1\n",
    "        elif bracket_count == 0 and l == \",\":\n",
    "            break\n",
    "        \n",
    "        left_part.append(l)\n",
    "        \n",
    "    left_part = ''.join(left_part)\n",
    "    right_part = ''.join(s)\n",
    "    \n",
    "    return left_part, right_part\n",
    "        \n",
    "\n",
    "class NormalNumber:\n",
    "    \n",
    "    def __init__(self, value, parent, direction):\n",
    "        self.value = int(value)\n",
    "        self.parent = parent\n",
    "        self.direction = direction\n",
    "        \n",
    "    def is_normal_number(self):\n",
    "        return True\n",
    "        \n",
    "    def is_simple_pair(self):\n",
    "        return False\n",
    "        \n",
    "    def add_value(self, n):\n",
    "        self.value = self.value + n.value\n",
    "        \n",
    "    def split_criterion(self):\n",
    "        return self.value >= 10\n",
    "        \n",
    "    def split(self):\n",
    "        n_1 = int(np.floor(self.value / 2))\n",
    "        n_2 = int(np.ceil(self.value / 2))\n",
    "        s = \"[\" + str(n_1) + \",\" + str(n_2) + \"]\"\n",
    "        new_snail_number = SnailNumber(s, parent = self.parent, direction = self.direction)\n",
    "        if self.direction == \"left\":\n",
    "            self.parent.left = new_snail_number\n",
    "        else:\n",
    "            self.parent.right = new_snail_number\n",
    "        \n",
    "    def __repr__(self):\n",
    "        return str(self.value)\n",
    "    \n",
    "    def magnitude(self):\n",
    "        return self.value\n",
    "\n",
    "class SnailNumber:\n",
    "    \n",
    "    def __init__(self, s, parent = None, direction = None):\n",
    "        if parent == None:\n",
    "            self.parent = None\n",
    "            self.direction = None\n",
    "            self.depth = 0\n",
    "        else:\n",
    "            self.parent = parent\n",
    "            self.direction = direction\n",
    "            self.depth = parent.depth + 1\n",
    "        \n",
    "        left, right = parse_snail_number(s)\n",
    "        if left[0] == \"[\":\n",
    "            self.left = SnailNumber(left, parent = self, direction = \"left\")\n",
    "        else:\n",
    "            self.left = NormalNumber(left, parent = self, direction = \"left\")\n",
    "            \n",
    "        if right[0] == \"[\":\n",
    "            self.right = SnailNumber(right, parent = self, direction = \"right\")\n",
    "        else:\n",
    "            self.right = NormalNumber(right, parent = self, direction = \"right\")\n",
    "           \n",
    "    def is_normal_number(self):\n",
    "        return False\n",
    "        \n",
    "    def is_simple_pair(self):\n",
    "        return (self.left.is_normal_number() and self.right.is_normal_number())\n",
    "        \n",
    "    def explode_criterion(self):\n",
    "        return (self.is_simple_pair() and self.depth >= 4)\n",
    "        \n",
    "    def explode_direction(self, d, n):\n",
    "        if self.parent == None:\n",
    "            return None\n",
    "        \n",
    "        if self.direction != d:\n",
    "            if d == \"left\":\n",
    "                node = self.parent.left\n",
    "            else:\n",
    "                node = self.parent.right\n",
    "            while type(node) != NormalNumber:\n",
    "                if d == \"left\":\n",
    "                    node = node.right\n",
    "                else:\n",
    "                    node = node.left\n",
    "                \n",
    "            node.add_value(n)\n",
    "        \n",
    "        elif self.direction == d:\n",
    "            self.parent.explode_direction(d, n)\n",
    "            \n",
    "    def explode(self):\n",
    "        self.explode_direction(\"left\", self.left)\n",
    "        self.explode_direction(\"right\", self.right)\n",
    "        new_normal_number = NormalNumber(0, parent = self.parent, direction = self.direction)\n",
    "        if self.direction == \"left\":\n",
    "            self.parent.left = new_normal_number\n",
    "        else:\n",
    "            self.parent.right = new_normal_number\n",
    "        \n",
    "        \n",
    "    def __repr__(self):\n",
    "        return \"[\" + self.left.__repr__() + \",\" + self.right.__repr__() + \"]\"\n",
    "\n",
    "    def magnitude(self):\n",
    "        return 3 * self.left.magnitude() + 2 * self.right.magnitude()\n",
    "        "
   ]
  },
  {
   "cell_type": "code",
   "execution_count": 3,
   "metadata": {},
   "outputs": [],
   "source": [
    "def next_normal_number(node):\n",
    "        \n",
    "    if node == None:\n",
    "        return None\n",
    "        \n",
    "    if node.direction == \"left\":\n",
    "        node = node.parent.right\n",
    "        while not node.is_normal_number():\n",
    "            node = node.left\n",
    "\n",
    "        return node\n",
    "\n",
    "    else:\n",
    "        return next_normal_number(node.parent)\n",
    "\n",
    "    \n",
    "class NormalNumberIterable:\n",
    "    def __init__(self, sn):\n",
    "        self.s = sn\n",
    "        self.node = ''\n",
    "        \n",
    "    def __iter__(self):\n",
    "        return self\n",
    "\n",
    "    def __next__(self):\n",
    "        \n",
    "        if self.node == '':\n",
    "            sn = self.s\n",
    "            while not sn.is_normal_number():\n",
    "                sn = sn.left\n",
    "            self.node = sn\n",
    "        else:\n",
    "            self.node = next_normal_number(self.node)\n",
    "            \n",
    "        if self.node == None:\n",
    "            raise StopIteration\n",
    "        else:\n",
    "            return self.node\n",
    "        "
   ]
  },
  {
   "cell_type": "code",
   "execution_count": 4,
   "metadata": {},
   "outputs": [],
   "source": [
    "def next_simple_pair(node):\n",
    "        \n",
    "    if node == None:\n",
    "        return None\n",
    "        \n",
    "    if node.direction == \"left\":\n",
    "        node = node.parent.right\n",
    "        while not node.is_normal_number():\n",
    "            if node.is_simple_pair():\n",
    "                return node\n",
    "            node = node.left\n",
    "            \n",
    "        return next_simple_pair(node)\n",
    "\n",
    "    else:\n",
    "        return next_simple_pair(node.parent)\n",
    "\n",
    "    \n",
    "class SimplePairIterable:\n",
    "    def __init__(self, sn):\n",
    "        self.s = sn\n",
    "        self.node = ''\n",
    "        \n",
    "    def __iter__(self):\n",
    "        return self\n",
    "\n",
    "    def __next__(self):\n",
    "        \n",
    "        if self.node == '':\n",
    "            sn = self.s\n",
    "            while not sn.is_normal_number():\n",
    "                sn = sn.left\n",
    "            if sn.parent.is_simple_pair():\n",
    "                self.node = sn.parent\n",
    "            else:\n",
    "                self.node = next_simple_pair(sn)\n",
    "        else:\n",
    "            self.node = next_simple_pair(self.node)\n",
    "            \n",
    "        if self.node == None:\n",
    "            raise StopIteration\n",
    "        else:\n",
    "            return self.node\n",
    "        "
   ]
  },
  {
   "cell_type": "code",
   "execution_count": 5,
   "metadata": {},
   "outputs": [],
   "source": [
    "def add_snail_numbers(s1, s2):\n",
    "    return SnailNumber(\"[\" + s1 + \",\" + s2 + \"]\")\n",
    "\n",
    "def explode_snail_number(s):\n",
    "    for pair in SimplePairIterable(s):\n",
    "        if pair.explode_criterion():\n",
    "            pair.explode()\n",
    "            return True\n",
    "    return False\n",
    "\n",
    "def split_snail_number(s):\n",
    "    for normal_number in NormalNumberIterable(s):\n",
    "        if normal_number.split_criterion():\n",
    "            normal_number.split()\n",
    "            return True\n",
    "    return False\n",
    "\n",
    "def reduce_snail_number(s):\n",
    "    while True:\n",
    "        if explode_snail_number(s):\n",
    "            continue\n",
    "        if split_snail_number(s):\n",
    "            continue\n",
    "        \n",
    "        break\n",
    "    return s"
   ]
  },
  {
   "cell_type": "code",
   "execution_count": 6,
   "metadata": {},
   "outputs": [
    {
     "name": "stdout",
     "output_type": "stream",
     "text": [
      "[[[[0,7],4],[7,[[8,4],9]]],[1,1]]\n"
     ]
    },
    {
     "data": {
      "text/plain": [
       "[[0,7], [8,4], [1,1]]"
      ]
     },
     "execution_count": 6,
     "metadata": {},
     "output_type": "execute_result"
    }
   ],
   "source": [
    "s1 = \"[[[[4,3],4],4],[7,[[8,4],9]]]\"\n",
    "s2 = \"[1,1]\"\n",
    "\n",
    "s3 = add_snail_numbers(s1, s2)\n",
    "explode_snail_number(s3)\n",
    "print(s3)\n",
    "[x for x in SimplePairIterable(s3)]"
   ]
  },
  {
   "cell_type": "code",
   "execution_count": 7,
   "metadata": {},
   "outputs": [
    {
     "data": {
      "text/plain": [
       "[[[[4,0],[5,4]],[[7,7],[6,0]]],[[8,[7,7]],[[7,9],[5,0]]]]"
      ]
     },
     "execution_count": 7,
     "metadata": {},
     "output_type": "execute_result"
    }
   ],
   "source": [
    "s1 = \"[[[0,[4,5]],[0,0]],[[[4,5],[2,6]],[9,5]]]\"\n",
    "s2 = \"[7,[[[3,7],[4,3]],[[6,3],[8,8]]]]\"\n",
    "\n",
    "s3 = add_snail_numbers(s1, s2)\n",
    "reduce_snail_number(s3)"
   ]
  },
  {
   "cell_type": "code",
   "execution_count": 8,
   "metadata": {},
   "outputs": [
    {
     "data": {
      "text/plain": [
       "4140"
      ]
     },
     "execution_count": 8,
     "metadata": {},
     "output_type": "execute_result"
    }
   ],
   "source": [
    "test_input = [\"[[[0,[5,8]],[[1,7],[9,6]]],[[4,[1,2]],[[1,4],2]]]\",\n",
    "\"[[[5,[2,8]],4],[5,[[9,9],0]]]\",\n",
    "\"[6,[[[6,2],[5,6]],[[7,6],[4,7]]]]\",\n",
    "\"[[[6,[0,7]],[0,9]],[4,[9,[9,0]]]]\",\n",
    "\"[[[7,[6,4]],[3,[1,3]]],[[[5,5],1],9]]\",\n",
    "\"[[6,[[7,3],[3,2]]],[[[3,8],[5,7]],4]]\",\n",
    "\"[[[[5,4],[7,7]],8],[[8,3],8]]\",\n",
    "\"[[9,3],[[9,9],[6,[4,9]]]]\",\n",
    "\"[[2,[[7,7],7]],[[5,8],[[9,3],[0,2]]]]\",\n",
    "\"[[[[5,2],5],[8,[3,7]]],[[5,[7,5]],[4,4]]]\"]\n",
    "\n",
    "res = test_input[0]\n",
    "for ti in test_input[1:]:\n",
    "    res = reduce_snail_number(add_snail_numbers(res, ti)).__repr__()\n",
    "    \n",
    "SnailNumber(res).magnitude()"
   ]
  },
  {
   "cell_type": "code",
   "execution_count": 9,
   "metadata": {},
   "outputs": [
    {
     "data": {
      "text/plain": [
       "3892"
      ]
     },
     "execution_count": 9,
     "metadata": {},
     "output_type": "execute_result"
    }
   ],
   "source": [
    "with open(\"input_18.txt\", \"r\") as f:\n",
    "    raw = f.readlines()\n",
    "    \n",
    "input_numbers = [x.replace(\"\\n\", \"\") for x in raw]\n",
    "\n",
    "res = input_numbers[0]\n",
    "for ti in input_numbers[1:]:\n",
    "    res = reduce_snail_number(add_snail_numbers(res, ti)).__repr__()\n",
    "    \n",
    "SnailNumber(res).magnitude()"
   ]
  },
  {
   "cell_type": "code",
   "execution_count": 10,
   "metadata": {},
   "outputs": [
    {
     "data": {
      "text/plain": [
       "4909"
      ]
     },
     "execution_count": 10,
     "metadata": {},
     "output_type": "execute_result"
    }
   ],
   "source": [
    "largest_magnitude = 0\n",
    "\n",
    "for i, ti_1 in enumerate(input_numbers):\n",
    "    for ti_2 in input_numbers:\n",
    "        if ti_1 == ti_2:\n",
    "            continue\n",
    "        \n",
    "        sum_of_numbers = reduce_snail_number(add_snail_numbers(ti_1, ti_2))\n",
    "        new_magnitude = sum_of_numbers.magnitude()\n",
    "        if new_magnitude > largest_magnitude:\n",
    "            largest_magnitude = new_magnitude\n",
    "            \n",
    "largest_magnitude"
   ]
  }
 ],
 "metadata": {
  "kernelspec": {
   "display_name": "Python 3",
   "language": "python",
   "name": "python3"
  },
  "language_info": {
   "codemirror_mode": {
    "name": "ipython",
    "version": 3
   },
   "file_extension": ".py",
   "mimetype": "text/x-python",
   "name": "python",
   "nbconvert_exporter": "python",
   "pygments_lexer": "ipython3",
   "version": "3.8.3"
  }
 },
 "nbformat": 4,
 "nbformat_minor": 4
}
