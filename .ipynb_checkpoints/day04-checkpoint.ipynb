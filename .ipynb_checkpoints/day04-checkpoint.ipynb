{
 "cells": [
  {
   "cell_type": "markdown",
   "metadata": {},
   "source": [
    "# Day 4\n",
    "\n",
    "https://adventofcode.com/2021/day/4\n",
    "\n",
    "Create a Bingo_Board object for each board that keeps track of which of its numbers have already been called. The call method returns the score for the board (-1 if it isn't complete, or the last number * the remaining numbers if it is). Then call each number and find the score for the first/last board to be completed."
   ]
  },
  {
   "cell_type": "code",
   "execution_count": 1,
   "metadata": {},
   "outputs": [],
   "source": [
    "import numpy as np"
   ]
  },
  {
   "cell_type": "code",
   "execution_count": 2,
   "metadata": {},
   "outputs": [],
   "source": [
    "class Bingo_Board:\n",
    "    def __init__(self, board):\n",
    "        self.board = board\n",
    "        self.called = np.zeros(board.shape, dtype = np.bool)\n",
    "        self.finished = False\n",
    "        \n",
    "    def check(self):\n",
    "        checks = np.concatenate((np.all(self.called, axis = 0), np.all(self.called, axis = 1)))\n",
    "        if np.any(checks):\n",
    "            self.finished = True\n",
    "        return np.any(checks)\n",
    "        \n",
    "    def score(self, n):\n",
    "        if self.check():\n",
    "            return n * np.sum(self.board[np.logical_not(self.called)])\n",
    "        else:\n",
    "            return -1\n",
    "        \n",
    "        \n",
    "    def call(self, n):\n",
    "        self.called = np.logical_or(self.called, self.board == n)\n",
    "        return self.score(n)\n",
    "        "
   ]
  },
  {
   "cell_type": "code",
   "execution_count": 4,
   "metadata": {},
   "outputs": [],
   "source": [
    "with open(\"input_04.txt\", \"r\") as f:\n",
    "    inp = f.readlines()\n",
    "    \n",
    "numbers = [int(x) for x in inp[0][:-1].split(\",\")]\n",
    "\n",
    "boards = [inp[n:(n+5)] for n in range(2, len(inp), 6)]\n",
    "\n",
    "def lines_to_array(lines):\n",
    "    return np.array([line.replace(\"\\n\", \"\").split() for line in lines], dtype = np.int)\n",
    "\n",
    "boards = [Bingo_Board(lines_to_array(board)) for board in boards]"
   ]
  },
  {
   "cell_type": "code",
   "execution_count": 5,
   "metadata": {},
   "outputs": [
    {
     "name": "stdout",
     "output_type": "stream",
     "text": [
      "55770\n"
     ]
    }
   ],
   "source": [
    "for n in numbers:\n",
    "    for board in boards:\n",
    "        res = board.call(n)\n",
    "        \n",
    "        if res >= 0:\n",
    "            print(res)\n",
    "            break\n",
    "            \n",
    "    if any([board.finished for board in boards]):\n",
    "        break"
   ]
  },
  {
   "cell_type": "code",
   "execution_count": 6,
   "metadata": {},
   "outputs": [
    {
     "name": "stdout",
     "output_type": "stream",
     "text": [
      "2980\n"
     ]
    }
   ],
   "source": [
    "for n in numbers:\n",
    "    if len(boards) == 0:\n",
    "        break\n",
    "    \n",
    "    for board in boards:\n",
    "        res = board.call(n)\n",
    "        \n",
    "        if len(boards) == 1 and res >= 0:\n",
    "            print(res)\n",
    "            break\n",
    "        \n",
    "    boards = [board for board in boards if not board.finished]\n"
   ]
  }
 ],
 "metadata": {
  "kernelspec": {
   "display_name": "Python 3",
   "language": "python",
   "name": "python3"
  },
  "language_info": {
   "codemirror_mode": {
    "name": "ipython",
    "version": 3
   },
   "file_extension": ".py",
   "mimetype": "text/x-python",
   "name": "python",
   "nbconvert_exporter": "python",
   "pygments_lexer": "ipython3",
   "version": "3.8.3"
  }
 },
 "nbformat": 4,
 "nbformat_minor": 5
}
