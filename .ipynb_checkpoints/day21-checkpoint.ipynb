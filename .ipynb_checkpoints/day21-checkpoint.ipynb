{
 "cells": [
  {
   "cell_type": "markdown",
   "metadata": {},
   "source": [
    "# Day 21\n",
    "\n",
    "https://adventofcode.com/2021/day/21\n",
    "\n",
    "Part 1 is easy. For part 2, the possible number of games is too large to model each one.\n",
    "\n",
    "The game state before each round is defined by four numbers - the current square and score so far for each player. Notice that if player 1 is on 20 points then she is guaranteed to win in the next round whatever happens. So start with player 1 on 20 points and work backwards through every game state, recording the number of wins for each player from each state. From earlier game states, either one player will win, or after the round the game will be in one of the states already looked at, so we can look up the number of wins. Work all the way back to zero points for each player and then look up the answer.\n",
    "\n",
    "One problem with my approach is that I always played a full round (player 1 then player 2), but actually if player 1 wins then player 2 doesn't get to play. The impact of this is that player 1's wins are counted 27 times. To solve this I also counted player 2's wins 27 times, then divided the answer by 27 at the end."
   ]
  },
  {
   "cell_type": "code",
   "execution_count": 1,
   "metadata": {},
   "outputs": [],
   "source": [
    "import numpy as np"
   ]
  },
  {
   "cell_type": "code",
   "execution_count": 2,
   "metadata": {},
   "outputs": [],
   "source": [
    "class Die:\n",
    "    \n",
    "    def __init__(self):\n",
    "        self.last_value = 0\n",
    "        self.times_rolled = 0\n",
    "        \n",
    "    def roll(self):\n",
    "        res = sum(range(self.last_value + 1, self.last_value + 4))\n",
    "        self.last_value = self.last_value + 3\n",
    "        if self.last_value > 100:\n",
    "            self.last_value = self.last_value - 100\n",
    "        self.times_rolled = self.times_rolled + 3\n",
    "        return res\n",
    "    "
   ]
  },
  {
   "cell_type": "code",
   "execution_count": 3,
   "metadata": {},
   "outputs": [
    {
     "data": {
      "text/plain": [
       "412344"
      ]
     },
     "execution_count": 3,
     "metadata": {},
     "output_type": "execute_result"
    }
   ],
   "source": [
    "starting_positions = [8, 3]\n",
    "\n",
    "test_positions = [4, 8]\n",
    "\n",
    "def play(start_positions):\n",
    "    \"\"\"Simulate determininstic game up to a score of 1000. Return the product of the \n",
    "    losing score and the number of rolls.\"\"\"\n",
    "    positions = start_positions\n",
    "    scores = [0, 0]\n",
    "    die = Die()\n",
    "    game_ends = False\n",
    "    while not game_ends:\n",
    "        for p in range(2):\n",
    "            new_roll = die.roll()\n",
    "            new_position = positions[p] + new_roll\n",
    "            new_position = new_position % 10\n",
    "            if new_position == 0:\n",
    "                new_position = 10\n",
    "            positions[p] = new_position\n",
    "            scores[p] = scores[p] + new_position\n",
    "            if scores[p] >= 1000:\n",
    "                game_ends = True\n",
    "                break\n",
    "            \n",
    "    losing_score = min(scores)\n",
    "    return losing_score * die.times_rolled\n",
    "\n",
    "play(starting_positions)"
   ]
  },
  {
   "cell_type": "code",
   "execution_count": 4,
   "metadata": {},
   "outputs": [],
   "source": [
    "\"\"\"All possible permutations of six dice rolls.\"\"\"\n",
    "\n",
    "from itertools import product \n",
    "\n",
    "dice_faces = range(1, 4)\n",
    "                        \n",
    "all_dice_rolls = np.array(\n",
    "    list(product(dice_faces, dice_faces, dice_faces, dice_faces, dice_faces, dice_faces)),\n",
    "    dtype = \"int64\")\n",
    "\n",
    "dice_rolls = np.transpose(np.vstack((np.sum(all_dice_rolls[:, :3], axis = 1),\n",
    "    np.sum(all_dice_rolls[:, 3:], axis = 1))))"
   ]
  },
  {
   "cell_type": "code",
   "execution_count": 5,
   "metadata": {},
   "outputs": [],
   "source": [
    "def evaluate_position(t, wins_losses):\n",
    "    \"\"\"Return the number of wins and losses from a given position t, using the \n",
    "    number of wins and losses from all possible future positions of the game.\"\"\"\n",
    "    if t[2] >= 21:\n",
    "        return np.array([1, 0], dtype = np.int64)\n",
    "    elif t[3] >= 21:\n",
    "        return np.array([0, 27], dtype = np.int64)\n",
    "    elif t in wins_losses:\n",
    "        return wins_losses[t]\n",
    "    else:\n",
    "        raise Exception(\"unevaluated position: \" + str(t))\n",
    "\n",
    "def play_round(position, wins_losses):\n",
    "    \"\"\"Play a round of the game with every possible permutation of the 6 dice rolls.\"\"\"\n",
    "    squares = np.array(position[0:2], dtype = \"int64\")\n",
    "    points = np.array(position[2:4], dtype = \"int64\")\n",
    "    new_squares = squares + dice_rolls\n",
    "    \n",
    "    new_squares[new_squares > 10] = new_squares[new_squares > 10] - 10\n",
    "    new_points = points + new_squares\n",
    "    \n",
    "    new_positions = [tuple(r) for r in np.hstack((new_squares, new_points))]\n",
    "    res = [evaluate_position(t, wins_losses) for t in new_positions]\n",
    "    \n",
    "    return np.sum(res, axis = 0, dtype = np.int64)"
   ]
  },
  {
   "cell_type": "code",
   "execution_count": 6,
   "metadata": {},
   "outputs": [
    {
     "name": "stdout",
     "output_type": "stream",
     "text": [
      "20\n",
      "19\n",
      "18\n",
      "17\n",
      "16\n",
      "15\n",
      "14\n",
      "13\n",
      "12\n",
      "11\n",
      "10\n",
      "9\n",
      "8\n",
      "7\n",
      "6\n",
      "5\n",
      "4\n",
      "3\n",
      "2\n",
      "1\n",
      "0\n"
     ]
    }
   ],
   "source": [
    "\"\"\"Work backwards through game positions to find number of wins/losses from each state\"\"\"\n",
    "\n",
    "wins_losses = dict()\n",
    "\n",
    "for your_points in range(20, -1, -1):\n",
    "    print(your_points)\n",
    "    for opponent_points in range(21):\n",
    "        for your_square in range(1, 11):\n",
    "            for opponent_square in range(1, 11):\n",
    "                position = (your_square, opponent_square, your_points, opponent_points)\n",
    "                wins_losses[position] = play_round(position, wins_losses)\n",
    "            \n"
   ]
  },
  {
   "cell_type": "code",
   "execution_count": 7,
   "metadata": {},
   "outputs": [
    {
     "data": {
      "text/plain": [
       "214924284932572"
      ]
     },
     "execution_count": 7,
     "metadata": {},
     "output_type": "execute_result"
    }
   ],
   "source": [
    "np.max((wins_losses[(8, 3, 0, 0)]/27).astype(np.int64))"
   ]
  }
 ],
 "metadata": {
  "kernelspec": {
   "display_name": "Python 3",
   "language": "python",
   "name": "python3"
  },
  "language_info": {
   "codemirror_mode": {
    "name": "ipython",
    "version": 3
   },
   "file_extension": ".py",
   "mimetype": "text/x-python",
   "name": "python",
   "nbconvert_exporter": "python",
   "pygments_lexer": "ipython3",
   "version": "3.8.3"
  }
 },
 "nbformat": 4,
 "nbformat_minor": 4
}
