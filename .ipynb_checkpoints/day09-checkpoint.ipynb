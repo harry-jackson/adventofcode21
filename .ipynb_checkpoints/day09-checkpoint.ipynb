{
 "cells": [
  {
   "cell_type": "markdown",
   "metadata": {},
   "source": [
    "# Day 9\n",
    "\n",
    "https://adventofcode.com/2021/day/9\n",
    "\n",
    "Store the heightmap in a numpy array. For part 1, shift the array in all four directions to find the points that are lower than each neighbour. \n",
    "\n",
    "In part 2 the heightmap is made up of regions of numbers <9 separated by barriers of 9s. We have to find the three largest regions. Use networkx to model the map as a network where each cell of the array is a node. Draw an edge between two nodes if they are neighbours and both nodes are <9. Then the three largest regions become the three largest connected components of the network.  "
   ]
  },
  {
   "cell_type": "code",
   "execution_count": 1,
   "metadata": {},
   "outputs": [],
   "source": [
    "import numpy as np\n",
    "import pandas as pd"
   ]
  },
  {
   "cell_type": "code",
   "execution_count": 2,
   "metadata": {},
   "outputs": [
    {
     "data": {
      "text/plain": [
       "548"
      ]
     },
     "execution_count": 2,
     "metadata": {},
     "output_type": "execute_result"
    }
   ],
   "source": [
    "with open(\"input_09.txt\", \"r\") as f:\n",
    "    raw_input = f.readlines()\n",
    "    \n",
    "heightmap = np.array([list(x.replace(\"\\n\", \"\")) for x in raw_input], dtype = \"int\")\n",
    "\n",
    "def shift_map(x, direction):\n",
    "    \"\"\"Given a numpy array x and a direction in [up, down, left, right], shift the map 1 square in that direction.\n",
    "    Fill the new row/column created with 10s.\"\"\"\n",
    "    if direction == 'right':\n",
    "        return np.pad(x,((0,0),(1,0)), mode='constant', constant_values = 10)[:, :-1]\n",
    "    elif direction == 'left':\n",
    "        return np.pad(x,((0,0),(0,1)), mode='constant', constant_values = 10)[:, 1:]\n",
    "    elif direction == 'down':\n",
    "        return np.pad(x,((1,0),(0,0)), mode='constant', constant_values = 10)[:-1, :]\n",
    "    elif direction == 'up':\n",
    "        return np.pad(x,((0,1),(0,0)), mode='constant', constant_values = 10)[1:, :]\n",
    "    else:\n",
    "        raise Exception('invalid direction')\n",
    "        \n",
    "def min_neighbours(m):\n",
    "    for direction in (\"right\", \"left\", \"up\", \"down\"):\n",
    "        m = np.minimum(m, shift_map(m, direction))\n",
    "    return m\n",
    "\n",
    "sum(heightmap[heightmap == min_neighbours(heightmap)] + 1)"
   ]
  },
  {
   "cell_type": "code",
   "execution_count": 3,
   "metadata": {},
   "outputs": [
    {
     "data": {
      "text/plain": [
       "786048"
      ]
     },
     "execution_count": 3,
     "metadata": {},
     "output_type": "execute_result"
    }
   ],
   "source": [
    "\"\"\"Build a graph of points <9 and find the largest connected component.\"\"\"\n",
    "\n",
    "import networkx as nx\n",
    "\n",
    "G = nx.Graph()\n",
    "\n",
    "y_size, x_size = heightmap.shape\n",
    "\n",
    "for i in range(y_size):\n",
    "    for j in range(x_size):\n",
    "        u = (i, j)\n",
    "        G.add_node(u)\n",
    "        \n",
    "        if heightmap[i, j] != 9:\n",
    "            if j > 0 and heightmap[i, j - 1] != 9:\n",
    "                v = (i, j - 1)\n",
    "                G.add_edge(u, v)\n",
    "                \n",
    "            if i > 0 and heightmap[i - 1, j] != 9:\n",
    "                v = (i - 1, j)\n",
    "                G.add_edge(u, v)\n",
    "\n",
    "np.prod(sorted([len(x) for x in nx.connected_components(G)], reverse = True)[:3])"
   ]
  }
 ],
 "metadata": {
  "kernelspec": {
   "display_name": "Python 3",
   "language": "python",
   "name": "python3"
  },
  "language_info": {
   "codemirror_mode": {
    "name": "ipython",
    "version": 3
   },
   "file_extension": ".py",
   "mimetype": "text/x-python",
   "name": "python",
   "nbconvert_exporter": "python",
   "pygments_lexer": "ipython3",
   "version": "3.8.3"
  }
 },
 "nbformat": 4,
 "nbformat_minor": 5
}
