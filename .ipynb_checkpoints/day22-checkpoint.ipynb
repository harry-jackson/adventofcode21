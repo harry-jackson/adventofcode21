{
 "cells": [
  {
   "cell_type": "markdown",
   "metadata": {},
   "source": [
    "# Day 22\n",
    "\n",
    "https://adventofcode.com/2021/day/22\n",
    "\n",
    "Each new instruction is to turn a cuboid of cubes on or off. This cuboid might intersect other cuboids that are already turned on, leaving irregular shapes. The rectify algorithm takes two intersecting cuboids $C_1$ and $C_2$, and splits $C_2$ into a set of disjoint cuboids $D_i$ where: \n",
    "\n",
    "$$D_0 = C_1 \\cap C_2$$\n",
    "\n",
    "$$\\bigcup\\limits_{i>0} D_i = C_2 \\setminus C_1 $$\n",
    "\n",
    "We can then remove $D_0$ and be left with a collection of cuboids $D_i$ rather than irregular shapes. This works very fast even for large cuboids, and it is straightforward to calculate the total volume of each cuboid at the end."
   ]
  },
  {
   "cell_type": "code",
   "execution_count": 1,
   "metadata": {},
   "outputs": [],
   "source": [
    "import numpy as np"
   ]
  },
  {
   "cell_type": "code",
   "execution_count": 2,
   "metadata": {},
   "outputs": [],
   "source": [
    "input_file = \"input_22.txt\"\n",
    "\n",
    "with open(input_file, \"r\") as f:\n",
    "    raw = [l.replace(\"\\n\", \"\").split(\" \") for l in f.readlines()]\n",
    "   \n",
    "txt2num = {\"on\": 1, \"off\": 0}\n",
    "\n",
    "def endpoints_to_range(endpoints):\n",
    "    return range(endpoints[0], endpoints[1] + 1)\n",
    "\n",
    "def new_value(l):\n",
    "    return txt2num[l[0]]\n",
    "\n",
    "def coords(l):\n",
    "    coords = tuple([tuple([int(y) for y in x[2:].split(\"..\")]) for x in l[1].split(\",\")])\n",
    "    return coords"
   ]
  },
  {
   "cell_type": "markdown",
   "metadata": {},
   "source": [
    "### 2D Case\n",
    "\n",
    "The cell below illustrates the rectify algorithm in 2D and illustrates the result - it takes two intersecting rectangles r_1 and r_2, and returns a disjoint collection of rectangles covering r_2 of which one is r_1 intersect r_2. "
   ]
  },
  {
   "cell_type": "code",
   "execution_count": 3,
   "metadata": {},
   "outputs": [
    {
     "name": "stdout",
     "output_type": "stream",
     "text": [
      "before rectify:\n"
     ]
    },
    {
     "data": {
      "image/png": "[encoded data removed]",
      "text/plain": [
       "<Figure size 432x288 with 1 Axes>"
      ]
     },
     "metadata": {
      "needs_background": "light"
     },
     "output_type": "display_data"
    },
    {
     "name": "stdout",
     "output_type": "stream",
     "text": [
      "after rectify:\n"
     ]
    },
    {
     "data": {
      "image/png": "[encoded data removed]",
      "text/plain": [
       "<Figure size 432x288 with 1 Axes>"
      ]
     },
     "metadata": {
      "needs_background": "light"
     },
     "output_type": "display_data"
    }
   ],
   "source": [
    "def cuboid_size(r):\n",
    "    \"\"\"Given the co-ordinates of opposite corners of an n-dimensional\n",
    "    cuboid, returns the size of the cuboid. \"\"\"\n",
    "    return np.prod([x[1] - x[0] + 1 for x in r], dtype = np.int64)\n",
    "            \n",
    "def rectify(r, cutout, level = 0):\n",
    "    \"\"\"Given two n-dimensional cuboids r and cutout, returns a set of disjoint cuboids\n",
    "    covering r and containing the intersection of r and cutout.\"\"\"\n",
    "    \n",
    "    total_size = cuboid_size(r)\n",
    "    \n",
    "    new_size = cuboid_size(cutout)\n",
    "\n",
    "    res = [cutout]\n",
    "    \n",
    "    for i, (r_i, cutout_i) in enumerate(zip(r, cutout)):\n",
    "        for j in range(2):\n",
    "            \n",
    "            sign = np.power(-1, j)\n",
    "            if sign * r_i[j] < sign * cutout_i[j]:\n",
    "                \n",
    "                r_d_i = [r_i[j], r_i[j]]\n",
    "                r_d_i[1 - j] = cutout_i[j] - sign\n",
    "                r_d_i = tuple(r_d_i)\n",
    "                \n",
    "                r_d = list(cutout)\n",
    "                r_d[i] = r_d_i\n",
    "                r_d = tuple(r_d)\n",
    "                \n",
    "                res.append(r_d)\n",
    "                \n",
    "                if level < len(r) - 1:\n",
    "                    r_copy = list(r)\n",
    "                    r_copy[i] = r_d_i\n",
    "                    r_copy = tuple(r_copy)\n",
    "                    r_d_additional = rectify(r_copy, r_d, level = level + 1)\n",
    "                    res = res + r_d_additional\n",
    "    \n",
    "    return list(set(res))\n",
    "\n",
    "def intersect_rectangles(r_1, r_2):\n",
    "    \"\"\"Given two n-dimensional cuboids r_1 and r_2, returns the intersection of r_1 and r_2 and a set of cuboids \n",
    "    covering r_2 \\ r_1 \"\"\"\n",
    "    intersection = tuple([(max(r_1_i[0], r_2_i[0]), min(r_1_i[1], r_2_i[1])) for r_1_i, r_2_i in zip(r_1, r_2)])\n",
    "    if all([len(endpoints_to_range(n)) > 0 for n in intersection]):\n",
    "        new_rects = rectify(r_2, intersection)\n",
    "        new_rects.remove(intersection)\n",
    "        return intersection, new_rects\n",
    "    \n",
    "    else:\n",
    "        return [], set([r_2])\n",
    "    \n",
    "def draw_rectangle(M, r, n):\n",
    "    for i in endpoints_to_range(r[1]):\n",
    "        for j in endpoints_to_range(r[0]):\n",
    "            M[i, j] = n\n",
    "            \n",
    "    return M\n",
    "    \n",
    "r_1 = ((4, 15), (2, 15))\n",
    "r_2 = ((1, 7), (5, 10))\n",
    "    \n",
    "intersection, res = intersect_rectangles(r_2, r_1)\n",
    "res.append(intersection)\n",
    "\n",
    "import matplotlib.pyplot as plt\n",
    "\n",
    "M_1 = np.zeros((20, 20), dtype = int)\n",
    "M_1 = draw_rectangle(M_1, r_1, 1)\n",
    "M_1 = draw_rectangle(M_1, r_2, 2)\n",
    "print(\"before rectify:\")\n",
    "plt.imshow(M_1)\n",
    "plt.show()\n",
    "\n",
    "M_2 = M_1.copy()\n",
    "for i, rr in enumerate(res):\n",
    "    N = i + 3\n",
    "    M_2 = draw_rectangle(M_2, rr, N)\n",
    "\n",
    "print(\"after rectify:\")\n",
    "plt.imshow(M_2)\n",
    "plt.show()"
   ]
  },
  {
   "cell_type": "code",
   "execution_count": 4,
   "metadata": {},
   "outputs": [],
   "source": [
    "def fast_initialize(instructions):\n",
    "    \"\"\"Returns a list of cuboids that are turned on after all the instructions are executed.\"\"\"\n",
    "    cubes = set()\n",
    "    for i, l in enumerate(instructions):\n",
    "        instruction = new_value(l)\n",
    "        new_cube = coords(l)\n",
    "        \n",
    "        cubes_to_remove = []\n",
    "        cubes_to_add = []\n",
    "        for existing_cube in cubes:\n",
    "            intersection, complement = intersect_rectangles(new_cube, existing_cube)\n",
    "            if len(intersection) > 0:\n",
    "                cubes_to_remove.append(existing_cube)\n",
    "                cubes_to_add = cubes_to_add + complement\n",
    "            \n",
    "        for rcube in cubes_to_remove:\n",
    "            cubes.remove(rcube)\n",
    "            \n",
    "        for acube in cubes_to_add:\n",
    "            cubes.add(acube)\n",
    "            \n",
    "        if instruction == 1:\n",
    "            cubes.add(new_cube)\n",
    "                \n",
    "    return cubes"
   ]
  },
  {
   "cell_type": "code",
   "execution_count": 5,
   "metadata": {},
   "outputs": [
    {
     "data": {
      "text/plain": [
       "642125"
      ]
     },
     "execution_count": 5,
     "metadata": {},
     "output_type": "execute_result"
    }
   ],
   "source": [
    "cubes = fast_initialize(raw[:20])\n",
    "\n",
    "np.sum([cuboid_size(c) for c in cubes], dtype = \"int64\")"
   ]
  },
  {
   "cell_type": "code",
   "execution_count": 6,
   "metadata": {},
   "outputs": [
    {
     "data": {
      "text/plain": [
       "1235164413198198"
      ]
     },
     "execution_count": 6,
     "metadata": {},
     "output_type": "execute_result"
    }
   ],
   "source": [
    "cubes = fast_initialize(raw)\n",
    "\n",
    "np.sum([cuboid_size(c) for c in cubes], dtype = \"int64\")"
   ]
  }
 ],
 "metadata": {
  "kernelspec": {
   "display_name": "Python 3",
   "language": "python",
   "name": "python3"
  },
  "language_info": {
   "codemirror_mode": {
    "name": "ipython",
    "version": 3
   },
   "file_extension": ".py",
   "mimetype": "text/x-python",
   "name": "python",
   "nbconvert_exporter": "python",
   "pygments_lexer": "ipython3",
   "version": "3.8.3"
  }
 },
 "nbformat": 4,
 "nbformat_minor": 4
}
