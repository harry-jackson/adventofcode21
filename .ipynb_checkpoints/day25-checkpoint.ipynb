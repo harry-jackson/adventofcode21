{
 "cells": [
  {
   "cell_type": "markdown",
   "metadata": {},
   "source": [
    "# Day 25\n",
    "\n",
    "https://adventofcode.com/2021/day/25\n",
    "\n",
    "Use np.pad to replicate the left-hand column on the right-hand side, and the top row on the bottom. Then we can check which cucumbers can move in each direction, and move them. Do this until they all stop moving. "
   ]
  },
  {
   "cell_type": "code",
   "execution_count": 2,
   "metadata": {},
   "outputs": [],
   "source": [
    "import numpy as np"
   ]
  },
  {
   "cell_type": "code",
   "execution_count": 4,
   "metadata": {},
   "outputs": [
    {
     "data": {
      "text/plain": [
       "295"
      ]
     },
     "execution_count": 4,
     "metadata": {},
     "output_type": "execute_result"
    }
   ],
   "source": [
    "with open(\"input_25.txt\", \"r\") as f:\n",
    "    raw = [l.replace(\"\\n\", \"\") for l in f.readlines()]\n",
    "    \n",
    "    \n",
    "cucumbers = np.array([list(l.replace(\"v\", \"2\").replace(\">\", \"1\").replace(\".\", \"0\")) for l in raw], dtype = \"int\")\n",
    "\n",
    "def pad_cucumbers(c, direction):\n",
    "    c = c.copy()\n",
    "    if direction == \"r\":\n",
    "        c = np.pad(c, 1, mode = \"wrap\")[1:-1, 1:]\n",
    "    elif direction == \"d\":\n",
    "        c = np.pad(c, 1, mode = \"wrap\")[1:, 1:-1]\n",
    "    elif direction == \"l\":\n",
    "        c = np.pad(c, 1, mode = \"wrap\")[1:-1, :-1]\n",
    "    elif direction == \"u\":\n",
    "        c = np.pad(c, 1, mode = \"wrap\")[:-1, 1:-1]\n",
    "    return c\n",
    "\n",
    "def move_right(c):\n",
    "    c = pad_cucumbers(c, direction = \"r\")\n",
    "    indices = np.pad(np.logical_and(c[:, :-1] == 1, c[:, 1:] == 0), 1, mode = \"wrap\")[1:-1, :]\n",
    "    to_be_moved = indices[:, 1:]\n",
    "    to_move_to = indices[:, :-1]\n",
    "    c[to_be_moved] = 0\n",
    "    c[to_move_to] = 1\n",
    "    return c[:, 1:]\n",
    "\n",
    "def move_down(c):\n",
    "    c = pad_cucumbers(c, direction = \"d\")\n",
    "    indices = np.pad(np.logical_and(c[:-1, :] == 2, c[1:, :] == 0), 1, mode = \"wrap\")[:, 1:-1]\n",
    "    to_be_moved = indices[1:, :]\n",
    "    to_move_to = indices[:-1, :]\n",
    "    c[to_be_moved] = 0\n",
    "    c[to_move_to] = 2\n",
    "    return c[1:, :]\n",
    "    \n",
    "def check_equal(c, new_c):\n",
    "    return np.all(pad_cucumbers(pad_cucumbers(c, direction = \"r\")[:, 1:], direction = \"d\")[1:, :] == new_c)\n",
    "    \n",
    "def move(c):\n",
    "    c = move_right(c)\n",
    "    c = move_down(c)\n",
    "    return c\n",
    "\n",
    "def simulate(c):\n",
    "    new_c = move(c)\n",
    "    i = 1\n",
    "    while not check_equal(c, new_c):\n",
    "        i = i + 1\n",
    "        c = new_c\n",
    "        new_c = move(c)\n",
    "    return i\n",
    "\n",
    "simulate(cucumbers)"
   ]
  }
 ],
 "metadata": {
  "kernelspec": {
   "display_name": "Python 3",
   "language": "python",
   "name": "python3"
  },
  "language_info": {
   "codemirror_mode": {
    "name": "ipython",
    "version": 3
   },
   "file_extension": ".py",
   "mimetype": "text/x-python",
   "name": "python",
   "nbconvert_exporter": "python",
   "pygments_lexer": "ipython3",
   "version": "3.8.3"
  }
 },
 "nbformat": 4,
 "nbformat_minor": 4
}
