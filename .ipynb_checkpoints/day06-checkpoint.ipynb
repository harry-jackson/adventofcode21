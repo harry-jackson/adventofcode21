{
 "cells": [
  {
   "cell_type": "markdown",
   "metadata": {},
   "source": [
    "# Day 6\n",
    "\n",
    "https://adventofcode.com/2021/day/6\n",
    "\n",
    "Part one can be completed by modelling each lanternfish individually, but the numbers get too large to fit in memory for part 2. Instead, model the number of lanternfish in each timer state, so that we only have to keep track of 9 numbers. One step in the simulation can then be simulated either using np.roll or (better) a transition matrix. "
   ]
  },
  {
   "cell_type": "code",
   "execution_count": 1,
   "metadata": {},
   "outputs": [],
   "source": [
    "import numpy as np"
   ]
  },
  {
   "cell_type": "code",
   "execution_count": 2,
   "metadata": {},
   "outputs": [],
   "source": [
    "test_fish = np.array([3,4,3,1,2], dtype = np.int)\n",
    "\n",
    "with open(\"input_06.txt\", \"r\") as f:\n",
    "    real_fish = f.read()\n",
    "    \n",
    "real_fish = np.array(real_fish.split(\",\"), dtype = \"int\")"
   ]
  },
  {
   "cell_type": "code",
   "execution_count": 3,
   "metadata": {},
   "outputs": [
    {
     "name": "stdout",
     "output_type": "stream",
     "text": [
      "[6 0 6 4 5 6 0 1 1 2 6 0 1 1 1 2 2 3 3 4 6 7 8 8 8 8]\n",
      "5934\n",
      "\n",
      "394994\n"
     ]
    }
   ],
   "source": [
    "def sim_fish_slow(fish, n_days):\n",
    "    \"\"\"Simulate each fish individually.\"\"\"\n",
    "    for t in range(n_days):\n",
    "        n_new_fish = len(fish[fish == 0])\n",
    "        new_fish = np.ones(n_new_fish, dtype = np.int) * 9\n",
    "        fish[fish == 0] = 7\n",
    "        fish = np.concatenate((fish, new_fish))\n",
    "        fish = fish - 1\n",
    "    return fish\n",
    "    \n",
    "print(sim_fish_slow(test_fish, 18))\n",
    "print(len(sim_fish_slow(test_fish, 80)))\n",
    "print('')\n",
    "print(len(sim_fish_slow(real_fish, 80)))"
   ]
  },
  {
   "cell_type": "code",
   "execution_count": 4,
   "metadata": {},
   "outputs": [
    {
     "name": "stdout",
     "output_type": "stream",
     "text": [
      "[3 5 3 2 2 1 5 1 4]\n",
      "5934\n",
      "\n",
      "[14243 62094 24231 55542 48422 39452 83859 15512 51639]\n",
      "394994\n",
      "\n",
      "26984457539\n",
      "\n",
      "1765974267455\n"
     ]
    }
   ],
   "source": [
    "def timers(fish):\n",
    "    return np.array([len(fish[fish == i]) for i in range(9)], dtype = \"int64\")\n",
    "\n",
    "test_timers = timers(test_fish)\n",
    "real_timers = timers(real_fish)\n",
    "\n",
    "def sim_fish_loop(timers, n_days):\n",
    "    \"\"\"Simulate the number of fish at each timer using a loop.\"\"\"\n",
    "    for t in range(n_days):\n",
    "        timers = np.roll(timers, -1)\n",
    "        timers[6] = timers[6] + timers[8]\n",
    "    \n",
    "    return timers\n",
    "\n",
    "print(sim_fish_loop(test_timers, 18))\n",
    "print(sum(sim_fish_loop(test_timers, 80)))\n",
    "print('')\n",
    "print(sim_fish_loop(real_timers, 80))\n",
    "print(sum(sim_fish_loop(real_timers, 80)))\n",
    "print('')\n",
    "print(sum(sim_fish_loop(test_timers, 256)))\n",
    "print('')\n",
    "print(sum(sim_fish_loop(real_timers, 256)))"
   ]
  },
  {
   "cell_type": "code",
   "execution_count": 5,
   "metadata": {},
   "outputs": [
    {
     "name": "stdout",
     "output_type": "stream",
     "text": [
      "[3 5 3 2 2 1 5 1 4]\n",
      "5934\n",
      "\n",
      "[14243 62094 24231 55542 48422 39452 83859 15512 51639]\n",
      "394994\n",
      "\n",
      "26984457539\n",
      "\n",
      "1765974267455\n"
     ]
    }
   ],
   "source": [
    "from numpy.linalg import matrix_power\n",
    "\n",
    "transition_matrix = np.array(\n",
    "      [[0., 0., 0., 0., 0., 0., 1., 0., 1.],\n",
    "       [1., 0., 0., 0., 0., 0., 0., 0., 0.],\n",
    "       [0., 1., 0., 0., 0., 0., 0., 0., 0.],\n",
    "       [0., 0., 1., 0., 0., 0., 0., 0., 0.],\n",
    "       [0., 0., 0., 1., 0., 0., 0., 0., 0.],\n",
    "       [0., 0., 0., 0., 1., 0., 0., 0., 0.],\n",
    "       [0., 0., 0., 0., 0., 1., 0., 0., 0.],\n",
    "       [0., 0., 0., 0., 0., 0., 1., 0., 0.],\n",
    "       [0., 0., 0., 0., 0., 0., 0., 1., 0.]], dtype = \"int64\")\n",
    "\n",
    "\n",
    "def sim_fish(timers, n_days):\n",
    "    \"\"\"Simulate the number of fish at each timer using powers of a transition matrix.\"\"\"\n",
    "    M = matrix_power(transition_matrix, n_days)\n",
    "    return np.matmul(timers, M)\n",
    "\n",
    "print(sim_fish(test_timers, 18))\n",
    "print(sum(sim_fish(test_timers, 80)))\n",
    "print('')\n",
    "print(sim_fish(real_timers, 80))\n",
    "print(sum(sim_fish(real_timers, 80)))\n",
    "print('')\n",
    "print(sum(sim_fish(test_timers, 256)))\n",
    "print('')\n",
    "print(sum(sim_fish(real_timers, 256)))"
   ]
  }
 ],
 "metadata": {
  "kernelspec": {
   "display_name": "Python 3",
   "language": "python",
   "name": "python3"
  },
  "language_info": {
   "codemirror_mode": {
    "name": "ipython",
    "version": 3
   },
   "file_extension": ".py",
   "mimetype": "text/x-python",
   "name": "python",
   "nbconvert_exporter": "python",
   "pygments_lexer": "ipython3",
   "version": "3.8.3"
  }
 },
 "nbformat": 4,
 "nbformat_minor": 5
}
