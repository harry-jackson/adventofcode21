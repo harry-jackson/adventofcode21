{
 "cells": [
  {
   "cell_type": "markdown",
   "metadata": {},
   "source": [
    "# Day 3\n",
    "\n",
    "https://adventofcode.com/2021/day/3\n",
    "\n",
    "Put the digits in a data frame, then use the \"mode\" method of each column series to find the most/least common digit. "
   ]
  },
  {
   "cell_type": "code",
   "execution_count": 1,
   "metadata": {},
   "outputs": [],
   "source": [
    "import pandas as pd\n",
    "import numpy as np"
   ]
  },
  {
   "cell_type": "code",
   "execution_count": 2,
   "metadata": {},
   "outputs": [],
   "source": [
    "with open(\"input_03.txt\", \"r\") as f:\n",
    "    inp = f.readlines()\n",
    "    \n",
    "inp = [list(x.replace(\"\\n\", \"\")) for x in inp]\n",
    "\n",
    "df = pd.DataFrame(inp).apply(lambda x: x.astype(np.int))"
   ]
  },
  {
   "cell_type": "code",
   "execution_count": 3,
   "metadata": {},
   "outputs": [
    {
     "name": "stdout",
     "output_type": "stream",
     "text": [
      "2724524\n"
     ]
    }
   ],
   "source": [
    "def bin2dec(a):\n",
    "    powers = np.power(2, np.arange(len(a) - 1, -1, step = -1))\n",
    "    return sum(a * powers)\n",
    "\n",
    "def row_modes(df):\n",
    "    return df.apply(lambda x: x.mode(), axis = 0).values[0]\n",
    "\n",
    "most_common_digits = row_modes(df)\n",
    "\n",
    "least_common_digits = 1 - most_common_digits\n",
    "\n",
    "print(bin2dec(most_common_digits) * bin2dec(least_common_digits))"
   ]
  },
  {
   "cell_type": "code",
   "execution_count": 4,
   "metadata": {},
   "outputs": [
    {
     "name": "stdout",
     "output_type": "stream",
     "text": [
      "2775870\n"
     ]
    }
   ],
   "source": [
    "df_most_common = df.copy()\n",
    "df_least_common = df.copy()\n",
    "\n",
    "def most_common_digit(series):\n",
    "    modes = series.mode()\n",
    "    if len(modes) > 1:\n",
    "        return 1\n",
    "    else:\n",
    "        return modes[0]\n",
    "\n",
    "def least_common_digit(series):\n",
    "    return 1 - most_common_digit(series)\n",
    "    \n",
    "for col in df.columns:\n",
    "    most_common = most_common_digit(df_most_common[col])\n",
    "    least_common = least_common_digit(df_least_common[col])\n",
    "        \n",
    "    df_most_common = df_most_common[df_most_common[col] == most_common]\n",
    "    \n",
    "    if df_least_common.shape[0] > 1:\n",
    "        df_least_common = df_least_common[df_least_common[col] == least_common]\n",
    "    \n",
    "most_common_digits = row_modes(df_most_common)\n",
    "least_common_digits = row_modes(df_least_common)\n",
    "\n",
    "print(bin2dec(most_common_digits) * bin2dec(least_common_digits))\n"
   ]
  }
 ],
 "metadata": {
  "kernelspec": {
   "display_name": "Python 3",
   "language": "python",
   "name": "python3"
  },
  "language_info": {
   "codemirror_mode": {
    "name": "ipython",
    "version": 3
   },
   "file_extension": ".py",
   "mimetype": "text/x-python",
   "name": "python",
   "nbconvert_exporter": "python",
   "pygments_lexer": "ipython3",
   "version": "3.8.3"
  }
 },
 "nbformat": 4,
 "nbformat_minor": 5
}
