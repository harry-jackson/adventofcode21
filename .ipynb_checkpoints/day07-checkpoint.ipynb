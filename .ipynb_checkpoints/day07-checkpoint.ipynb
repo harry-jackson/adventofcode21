{
 "cells": [
  {
   "cell_type": "markdown",
   "metadata": {},
   "source": [
    "# Day 7\n",
    "\n",
    "https://adventofcode.com/2021/day/7\n",
    "\n",
    "Both parts can be solved by either brute force or some maths - part 1 is the median and part 2 is always within 0.5 of the arithmetic mean. "
   ]
  },
  {
   "cell_type": "code",
   "execution_count": 1,
   "metadata": {},
   "outputs": [],
   "source": [
    "import numpy as np"
   ]
  },
  {
   "cell_type": "code",
   "execution_count": 2,
   "metadata": {},
   "outputs": [],
   "source": [
    "with open(\"input_07.txt\", \"r\") as f:\n",
    "    raw_input = f.read()\n",
    "    \n",
    "crab_positions = np.array(raw_input.split(\",\"), dtype = np.int)"
   ]
  },
  {
   "cell_type": "markdown",
   "metadata": {},
   "source": [
    "### Part 1\n",
    "\n",
    "For crab starting positions $x_i$ and meeting point $m$, the fuel used by each crab is:\n",
    "\n",
    "$$f_i(m) = |x_i - m|$$\n",
    "\n",
    "So the total fuel used $F$ by $N$ crabs is:\n",
    "\n",
    "$$F(m) = \\sum _{i = 1} ^N |x_i - m|$$\n",
    "\n",
    "To find the best meeting point, differentiate with respect to $m$ and set derivative to zero*:\n",
    "\n",
    "$$\\frac {dF}{dm} =  - \\bigg\\{ \\sum _{x_i \\gt m} {1} - \\sum _{x_i \\lt m} {1} \\bigg\\}$$\n",
    "\n",
    "$$0 = \\sum _{x_i \\gt m} {1} - \\sum _{x_i \\lt m} {1}$$\n",
    "\n",
    "$$\\sum _{x_i \\gt m} {1} = \\sum _{x_i \\lt m} {1}$$\n",
    "\n",
    "i.e. there are an equal number of $x_i$ greater than $m$ and $x_i$ less than $m$. This means that $m$ is the median of the $x_i$. \n",
    "\n",
    "*This function is not actually differentiable if $x_i=m$, but hopefully that won't cause a problem."
   ]
  },
  {
   "cell_type": "code",
   "execution_count": 3,
   "metadata": {},
   "outputs": [
    {
     "name": "stdout",
     "output_type": "stream",
     "text": [
      "329389\n"
     ]
    }
   ],
   "source": [
    "med = np.median(crab_positions).astype(np.int)\n",
    "\n",
    "print(sum(abs(crab_positions - med)))"
   ]
  },
  {
   "cell_type": "markdown",
   "metadata": {},
   "source": [
    "### Part 2\n",
    "\n",
    "The fuel used by each crab $f$ is the triangular number of the distance travelled $d$, i.e. \n",
    "\n",
    "$$f(d) = \\frac{d(d + 1)}{2}$$\n",
    "\n",
    "For crab starting positions $x_i$ and meeting point $m$, the fuel used by each crab is:\n",
    "\n",
    "$$f_i(m) = \\frac{|x_i - m|(|x_i - m| + 1)}{2}$$\n",
    "\n",
    "$$= \\frac{(x_i - m)^2 + |x_i - m|}{2}$$\n",
    "\n",
    "So the total fuel used $F$ by $N$ crabs is:\n",
    "\n",
    "$$F(m) = \\sum _{i = 1} ^N \\frac{(x_i - m)^2 + |x_i - m|}{2}$$\n",
    "\n",
    "To find the best meeting point, differentiate with respect to $m$ and set derivative to zero*:\n",
    "\n",
    "$$\\frac {dF}{dm} = \\frac{1}{2} \\bigg( -2 \\sum _{i = 1} ^N (x_i - m) - \\bigg\\{ \\sum _{x_i \\gt m} {1} - \\sum _{x_i \\lt m} {1} \\bigg\\}\\bigg)$$\n",
    "\n",
    "$$0 = -2\\textstyle \\sum {x_i} + 2Nm - \\bigg\\{ \\sum _{x_i \\gt m} {1} - \\sum _{x_i \\lt m} {1} \\bigg\\}$$\n",
    "\n",
    "$$\\frac { \\sum _{x_i \\gt m} {1} - \\sum _{x_i \\lt m} {1} }{2N} = m - \\frac {\\sum {x_i}}{N}$$\n",
    "\n",
    "Note that $|\\sum _{x_i \\gt m} {1} - \\sum _{x_i \\lt m} {1}| \\leq N$, so: \n",
    "\n",
    "$$\\bigg| \\frac {\\sum _{x_i \\gt m} {1} - \\sum _{x_i \\lt m} {1} }{2N} \\bigg| \\leq \\frac{1}{2}$$\n",
    "\n",
    "So:\n",
    "\n",
    "$$ \\bigg| m - \\frac {\\sum {x_i}}{N}\\bigg| \\leq \\frac{1}{2}$$\n",
    "\n",
    "i.e. the best $m$ will be within $\\frac{1}{2}$ of the mean of $x_i$, so we can get the answer by checking the closest two integers to $mean(x_i)$.\n",
    "\n",
    "*This function is not actually differentiable if $x_i=m$, but hopefully that won't cause a problem."
   ]
  },
  {
   "cell_type": "code",
   "execution_count": 4,
   "metadata": {},
   "outputs": [
    {
     "data": {
      "text/plain": [
       "86397080.0"
      ]
     },
     "execution_count": 4,
     "metadata": {},
     "output_type": "execute_result"
    }
   ],
   "source": [
    "def triangular(d):\n",
    "    return (d * (d + 1))/2\n",
    "\n",
    "# Brute force\n",
    "\n",
    "min([sum(triangular(abs(crab_positions - m))) for m in range(1000)])"
   ]
  },
  {
   "cell_type": "code",
   "execution_count": 6,
   "metadata": {},
   "outputs": [
    {
     "data": {
      "text/plain": [
       "86397080.0"
      ]
     },
     "execution_count": 6,
     "metadata": {},
     "output_type": "execute_result"
    }
   ],
   "source": [
    "\"\"\"Checking the two closest integers\"\"\"\n",
    "\n",
    "mean_position = np.mean(crab_positions)\n",
    "\n",
    "candidates = (np.floor(mean_position), np.ceil(mean_position))\n",
    "\n",
    "min([sum(triangular(abs(crab_positions - m))) for m in candidates])"
   ]
  }
 ],
 "metadata": {
  "kernelspec": {
   "display_name": "Python 3",
   "language": "python",
   "name": "python3"
  },
  "language_info": {
   "codemirror_mode": {
    "name": "ipython",
    "version": 3
   },
   "file_extension": ".py",
   "mimetype": "text/x-python",
   "name": "python",
   "nbconvert_exporter": "python",
   "pygments_lexer": "ipython3",
   "version": "3.8.3"
  }
 },
 "nbformat": 4,
 "nbformat_minor": 5
}
