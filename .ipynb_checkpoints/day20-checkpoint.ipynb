{
 "cells": [
  {
   "cell_type": "markdown",
   "metadata": {},
   "source": [
    "# Day 20\n",
    "\n",
    "https://adventofcode.com/2021/day/20\n",
    "\n",
    "Spoilers: the only trick here is that in the input algorithm, the first bit is a 1. i.e. the infinite array of zeros all turn into ones after 1 step, then back to zero on the next step (as the 512th bit is 0), so you have to account for this when padding the image. \n",
    "\n",
    "sklearn has a built-in function to make the 3x3 windows which makes this a lot easier. "
   ]
  },
  {
   "cell_type": "code",
   "execution_count": 1,
   "metadata": {},
   "outputs": [],
   "source": [
    "import numpy as np\n",
    "from skimage.util.shape import view_as_windows"
   ]
  },
  {
   "cell_type": "code",
   "execution_count": 2,
   "metadata": {},
   "outputs": [],
   "source": [
    "with open(\"input_20.txt\", \"r\") as f:\n",
    "    raw = [l.replace(\"\\n\", \"\") for l in f.readlines()]\n",
    "    \n",
    "raw_algorithm = raw[0]\n",
    "raw_image = raw[2:]"
   ]
  },
  {
   "cell_type": "code",
   "execution_count": 3,
   "metadata": {},
   "outputs": [],
   "source": [
    "def image_to_n(image):\n",
    "    res = np.array([list(x) for x in image], dtype = str)\n",
    "    return (res == \"#\").astype(int)\n",
    "\n",
    "def algo_to_n(algorithm):\n",
    "    res = np.array(list(algorithm) + [0], dtype = str)\n",
    "    return (res == \"#\").astype(int)\n",
    "\n",
    "def bin2dec(b):\n",
    "    return np.sum(b * np.power(2, range(len(b) - 1, -1, -1)), dtype = int)"
   ]
  },
  {
   "cell_type": "code",
   "execution_count": 4,
   "metadata": {},
   "outputs": [],
   "source": [
    "image = image_to_n(raw_image)\n",
    "algorithm = algo_to_n(raw_algorithm)"
   ]
  },
  {
   "cell_type": "code",
   "execution_count": 5,
   "metadata": {},
   "outputs": [
    {
     "data": {
      "text/plain": [
       "5347"
      ]
     },
     "execution_count": 5,
     "metadata": {},
     "output_type": "execute_result"
    }
   ],
   "source": [
    "def lookup_index(m):\n",
    "    res = view_as_windows(m, (3, 3))\n",
    "    res = np.array([[bin2dec(np.reshape(x, 9)) for x in y] for y in res], dtype = \"int\")\n",
    "    return res\n",
    "                \n",
    "def new_pixels(m, algorithm):\n",
    "    return np.array([[algorithm[x] for x in y] for y in list(m)], dtype = \"int\")\n",
    "            \n",
    "def simulate(image, lookup, steps):\n",
    "    for t in range(steps):\n",
    "        if t % 2 == 0:\n",
    "            cv = 0\n",
    "        else:\n",
    "            cv = 1\n",
    "        image = np.pad(image, 2, constant_values = cv)\n",
    "        indices = lookup_index(image)\n",
    "        image = new_pixels(indices, lookup)\n",
    "    return image\n",
    "\n",
    "\n",
    "np.sum(simulate(image, algorithm, 2))"
   ]
  },
  {
   "cell_type": "code",
   "execution_count": 6,
   "metadata": {},
   "outputs": [
    {
     "data": {
      "text/plain": [
       "17172"
      ]
     },
     "execution_count": 6,
     "metadata": {},
     "output_type": "execute_result"
    }
   ],
   "source": [
    "np.sum(simulate(image, algorithm, 50))"
   ]
  }
 ],
 "metadata": {
  "kernelspec": {
   "display_name": "Python 3",
   "language": "python",
   "name": "python3"
  },
  "language_info": {
   "codemirror_mode": {
    "name": "ipython",
    "version": 3
   },
   "file_extension": ".py",
   "mimetype": "text/x-python",
   "name": "python",
   "nbconvert_exporter": "python",
   "pygments_lexer": "ipython3",
   "version": "3.8.3"
  }
 },
 "nbformat": 4,
 "nbformat_minor": 4
}
