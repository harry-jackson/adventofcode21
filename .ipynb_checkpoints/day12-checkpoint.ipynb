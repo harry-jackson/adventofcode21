{
 "cells": [
  {
   "cell_type": "markdown",
   "metadata": {},
   "source": [
    "# Day 12\n",
    "\n",
    "https://adventofcode.com/2021/day/12\n",
    "\n",
    "I tried to do something clever to make networkx work this out for me but it didn't work. Instead I did it the hard way, calculating every possible path and storing in a data frame. Part 2 takes about 5 minutes to calculate so there must be a better way (possibly some sort of memoization). "
   ]
  },
  {
   "cell_type": "code",
   "execution_count": 1,
   "metadata": {},
   "outputs": [],
   "source": [
    "import numpy as np\n",
    "import pandas as pd\n",
    "import networkx as nx"
   ]
  },
  {
   "cell_type": "code",
   "execution_count": 2,
   "metadata": {},
   "outputs": [],
   "source": [
    "raw = pd.read_csv(\"input_12.txt\", sep = \"-\", header = None)\n",
    "\n",
    "graph_df = raw.rename(columns = {0: \"from\", 1: \"to\"})\n"
   ]
  },
  {
   "cell_type": "markdown",
   "metadata": {},
   "source": [
    "### Non-working part:"
   ]
  },
  {
   "cell_type": "code",
   "execution_count": 5,
   "metadata": {},
   "outputs": [
    {
     "data": {
      "text/plain": [
       "<networkx.classes.graph.Graph at 0x1475c1659d0>"
      ]
     },
     "execution_count": 5,
     "metadata": {},
     "output_type": "execute_result"
    }
   ],
   "source": [
    "G = nx.Graph()\n",
    "\n",
    "for i, row in graph_df.iterrows():\n",
    "    G.add_edge(row[\"from\"], row[\"to\"])\n",
    "    \n",
    "G.edges"
   ]
  },
  {
   "cell_type": "code",
   "execution_count": 18,
   "metadata": {},
   "outputs": [],
   "source": [
    "G = nx.Graph()\n",
    "\n",
    "for i, row in graph_df.iterrows():\n",
    "    G.add_edge(row[\"from\"], row[\"to\"])\n",
    "    \n",
    "g_nodes = list(G.nodes)\n",
    "    \n",
    "for node in g_nodes:\n",
    "    if not (node.lower() == node):\n",
    "        ns = list(G.neighbors(node))\n",
    "        G.remove_node(node)\n",
    "        new_nodes = []\n",
    "        for n in ns:\n",
    "            new_node_name = node + \"_\" + n\n",
    "            new_nodes.append(new_node_name)\n",
    "            G.add_edge(new_node_name, n)\n",
    "            \n",
    "        for new_node_1 in new_nodes:\n",
    "            for new_node_2 in new_nodes:\n",
    "                if new_node_1 != new_node_2:\n",
    "                    G.add_edge(new_node_1, new_node_2)\n"
   ]
  },
  {
   "cell_type": "code",
   "execution_count": 19,
   "metadata": {},
   "outputs": [
    {
     "data": {
      "text/plain": [
       "EdgeView([('ed', 'eq'), ('ed', 'cc'), ('ed', 'tk'), ('ed', 'XW_ed'), ('ed', 'LA_ed'), ('ed', 'II_ed'), ('cc', 'tk'), ('cc', 'kl'), ('cc', 'II_cc'), ('tk', 'XW_tk'), ('tk', 'LA_tk'), ('tk', 'II_tk'), ('tk', 'SQ_tk'), ('eq', 'ns'), ('eq', 'XW_eq'), ('eq', 'II_eq'), ('eq', 'JR_eq'), ('kl', 'start'), ('kl', 'LA_kl'), ('kl', 'SQ_kl'), ('end', 'XW_end'), ('end', 'LA_end'), ('end', 'II_end'), ('start', 'LA_start'), ('start', 'SQ_start'), ('XW_ed', 'XW_eq'), ('XW_ed', 'XW_tk'), ('XW_ed', 'XW_end'), ('XW_eq', 'XW_tk'), ('XW_eq', 'XW_end'), ('XW_tk', 'XW_end'), ('LA_kl', 'LA_end'), ('LA_kl', 'LA_ed'), ('LA_kl', 'LA_tk'), ('LA_kl', 'LA_start'), ('LA_end', 'LA_ed'), ('LA_end', 'LA_tk'), ('LA_end', 'LA_start'), ('LA_ed', 'LA_tk'), ('LA_ed', 'LA_start'), ('LA_tk', 'LA_start'), ('II_tk', 'II_end'), ('II_tk', 'II_cc'), ('II_tk', 'II_eq'), ('II_tk', 'II_ed'), ('II_end', 'II_cc'), ('II_end', 'II_eq'), ('II_end', 'II_ed'), ('II_cc', 'II_eq'), ('II_cc', 'II_ed'), ('II_eq', 'II_ed'), ('SQ_kl', 'SQ_start'), ('SQ_kl', 'SQ_tk'), ('SQ_start', 'SQ_tk')])"
      ]
     },
     "execution_count": 19,
     "metadata": {},
     "output_type": "execute_result"
    }
   ],
   "source": [
    "G.edges"
   ]
  },
  {
   "cell_type": "code",
   "execution_count": 32,
   "metadata": {},
   "outputs": [],
   "source": [
    "paths = nx.all_simple_paths(G, \"start\", \"end\")"
   ]
  },
  {
   "cell_type": "markdown",
   "metadata": {},
   "source": [
    "### Working part:"
   ]
  },
  {
   "cell_type": "code",
   "execution_count": 3,
   "metadata": {},
   "outputs": [],
   "source": [
    "G = nx.Graph()\n",
    "\n",
    "for i, row in graph_df.iterrows():\n",
    "    G.add_edge(row[\"from\"], row[\"to\"])\n",
    "    \n",
    "for node in G.nodes:\n",
    "    G.nodes[node][\"big\"] = not (node.lower() == node)\n",
    "    \n",
    "\n",
    "def paths(G, double_visit = False):\n",
    "    \n",
    "    df = pd.DataFrame({\"double_visited_cave\": [\"\"], \"node_0\": [\"start\"]})\n",
    "    \n",
    "    while not (df[df.columns[-1]] == \"end\").all():\n",
    "        last_col_name = df.columns[-1]\n",
    "        next_col_id = int(last_col_name.replace(\"node_\", \"\")) + 1\n",
    "        next_col_name = \"node_\" + str(next_col_id)\n",
    "\n",
    "        next_col = []\n",
    "        for i, row in df.iterrows():\n",
    "            node = row[last_col_name]\n",
    "            if node == \"end\":\n",
    "                next_col.append([\"end\"])\n",
    "            else:\n",
    "                ns = [n for n in G.neighbors(node) if n != \"start\"]\n",
    "                next_col.append([n for n in ns if G.nodes[n][\"big\"] or (n not in row.values[1:-1]) or (double_visit and row[\"double_visited_cave\"] == \"\")])\n",
    "\n",
    "        df[next_col_name] = next_col\n",
    "        df = df.explode(next_col_name)\n",
    "        df = df.dropna(subset = [next_col_name])\n",
    "        \n",
    "        if double_visit:\n",
    "            for i, row in df.iterrows():\n",
    "                n = row[next_col_name]\n",
    "                \n",
    "                if n == \"end\":\n",
    "                    continue\n",
    "                if (not G.nodes[n][\"big\"]) and (n in row.values[1:-1]):\n",
    "                    if row[\"double_visited_cave\"] == \"\":\n",
    "                        row[\"double_visited_cave\"] = n\n",
    "                    else:\n",
    "                        row[next_col_name] = np.nan\n",
    "        df = df.dropna(subset = [next_col_name])\n",
    "\n",
    "    return df"
   ]
  },
  {
   "cell_type": "code",
   "execution_count": 4,
   "metadata": {},
   "outputs": [],
   "source": [
    "df = paths(G, double_visit = False)"
   ]
  },
  {
   "cell_type": "code",
   "execution_count": 5,
   "metadata": {},
   "outputs": [
    {
     "data": {
      "text/plain": [
       "(3679, 14)"
      ]
     },
     "execution_count": 5,
     "metadata": {},
     "output_type": "execute_result"
    }
   ],
   "source": [
    "df.shape"
   ]
  },
  {
   "cell_type": "code",
   "execution_count": 6,
   "metadata": {},
   "outputs": [],
   "source": [
    "df_2 = paths(G, double_visit = True)"
   ]
  },
  {
   "cell_type": "code",
   "execution_count": 7,
   "metadata": {},
   "outputs": [
    {
     "data": {
      "text/plain": [
       "(107395, 16)"
      ]
     },
     "execution_count": 7,
     "metadata": {},
     "output_type": "execute_result"
    }
   ],
   "source": [
    "df_2.shape"
   ]
  }
 ],
 "metadata": {
  "kernelspec": {
   "display_name": "Python 3",
   "language": "python",
   "name": "python3"
  },
  "language_info": {
   "codemirror_mode": {
    "name": "ipython",
    "version": 3
   },
   "file_extension": ".py",
   "mimetype": "text/x-python",
   "name": "python",
   "nbconvert_exporter": "python",
   "pygments_lexer": "ipython3",
   "version": "3.8.3"
  }
 },
 "nbformat": 4,
 "nbformat_minor": 4
}
