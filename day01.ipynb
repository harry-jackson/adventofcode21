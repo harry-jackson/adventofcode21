{
 "cells": [
  {
   "cell_type": "markdown",
   "metadata": {},
   "source": [
    "# Day 1\n",
    "\n",
    "https://adventofcode.com/2021/day/1\n",
    "\n",
    "The shift method in pandas can check whether the readings have increased or decreased."
   ]
  },
  {
   "cell_type": "code",
   "execution_count": 3,
   "metadata": {},
   "outputs": [],
   "source": [
    "import pandas as pd\n",
    "import numpy as np"
   ]
  },
  {
   "cell_type": "code",
   "execution_count": 4,
   "metadata": {},
   "outputs": [],
   "source": [
    "with open(\"input_01.txt\", \"r\") as f:\n",
    "    inp = f.readlines()\n",
    "    \n",
    "inp = [int(x.replace(\"\\n\", \"\")) for x in inp]"
   ]
  },
  {
   "cell_type": "code",
   "execution_count": 5,
   "metadata": {},
   "outputs": [
    {
     "name": "stdout",
     "output_type": "stream",
     "text": [
      "1713\n"
     ]
    }
   ],
   "source": [
    "df = pd.DataFrame({\"Depth\": inp})\n",
    "\n",
    "df[\"Increased\"] = df.Depth > df.Depth.shift(1)\n",
    "\n",
    "print(sum(df[\"Increased\"]))"
   ]
  },
  {
   "cell_type": "code",
   "execution_count": 6,
   "metadata": {},
   "outputs": [
    {
     "name": "stdout",
     "output_type": "stream",
     "text": [
      "1734\n"
     ]
    }
   ],
   "source": [
    "df[\"Sliding_Window\"] = df.Depth + df.Depth.shift(1) + df.Depth.shift(2)\n",
    "\n",
    "df[\"Sliding_Window_Increased\"] = df.Sliding_Window > df.Sliding_Window.shift(1)\n",
    "\n",
    "print(sum(df[\"Sliding_Window_Increased\"]))"
   ]
  }
 ],
 "metadata": {
  "kernelspec": {
   "display_name": "Python 3",
   "language": "python",
   "name": "python3"
  },
  "language_info": {
   "codemirror_mode": {
    "name": "ipython",
    "version": 3
   },
   "file_extension": ".py",
   "mimetype": "text/x-python",
   "name": "python",
   "nbconvert_exporter": "python",
   "pygments_lexer": "ipython3",
   "version": "3.8.3"
  }
 },
 "nbformat": 4,
 "nbformat_minor": 5
}
