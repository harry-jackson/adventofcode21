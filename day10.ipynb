{
 "cells": [
  {
   "cell_type": "markdown",
   "metadata": {},
   "source": [
    "# Day 10\n",
    "\n",
    "https://adventofcode.com/2021/day/10\n",
    "\n",
    "Closing brackets have to arrive in reverse order to opening brackets. If the wrong bracket appears, throw an exception - can catch these exceptions to find the first wrong bracket. Otherwise just reverse the order of the opening brackets for part 2."
   ]
  },
  {
   "cell_type": "code",
   "execution_count": 1,
   "metadata": {},
   "outputs": [],
   "source": [
    "import numpy as np"
   ]
  },
  {
   "cell_type": "code",
   "execution_count": 2,
   "metadata": {},
   "outputs": [],
   "source": [
    "with open(\"input_10.txt\", \"r\") as f:\n",
    "    raw = f.readlines()\n",
    "    \n",
    "lines = [l.replace(\"\\n\", \"\") for l in raw]"
   ]
  },
  {
   "cell_type": "code",
   "execution_count": 3,
   "metadata": {},
   "outputs": [],
   "source": [
    "points = {\n",
    "    \"\": 0,\n",
    "    \")\": 3,\n",
    "    \"]\": 57,\n",
    "    \"}\": 1197,\n",
    "    \">\": 25137\n",
    "}\n",
    "\n",
    "left_to_right = {\n",
    "    \"(\": \")\",\n",
    "    \"[\": \"]\",\n",
    "    \"{\": \"}\",\n",
    "    \"<\": \">\"\n",
    "}"
   ]
  },
  {
   "cell_type": "code",
   "execution_count": 4,
   "metadata": {},
   "outputs": [
    {
     "data": {
      "text/plain": [
       "358737"
      ]
     },
     "execution_count": 4,
     "metadata": {},
     "output_type": "execute_result"
    }
   ],
   "source": [
    "def complete_line(line):\n",
    "    \"\"\"Return the closing brackets for the existing open brackets in the reverse order that they arrived.\n",
    "    Throw an error if a closing bracket arrives in the wrong order.\"\"\"\n",
    "    res = []\n",
    "    for c in line:\n",
    "        if c in left_to_right:\n",
    "            res.append(c)\n",
    "        else:\n",
    "            last = res.pop()\n",
    "            if left_to_right[last] != c:\n",
    "                raise Exception(c)\n",
    "\n",
    "    res.reverse()\n",
    "    return ''.join([left_to_right[c] for c in res])\n",
    "    \n",
    "def first_illegal_character(line):\n",
    "    \"\"\"Try to complete the line. If an error is thrown, return the character it was thrown on.\"\"\"\n",
    "    try:\n",
    "        complete_line(line)\n",
    "        return \"\"\n",
    "    except Exception as e:\n",
    "        return e.args[0]\n",
    "\n",
    "    \n",
    "scores = [points[first_illegal_character(l)] for l in lines]\n",
    "    \n",
    "sum(scores)"
   ]
  },
  {
   "cell_type": "code",
   "execution_count": 5,
   "metadata": {},
   "outputs": [
    {
     "data": {
      "text/plain": [
       "4329504793"
      ]
     },
     "execution_count": 5,
     "metadata": {},
     "output_type": "execute_result"
    }
   ],
   "source": [
    "lines_2 = [l for l, s in zip(lines, scores) if s == 0]\n",
    "\n",
    "points_2 = {\n",
    "    \"\": 0,\n",
    "    \")\": 1,\n",
    "    \"]\": 2,\n",
    "    \"}\": 3,\n",
    "    \">\": 4    \n",
    "}\n",
    "\n",
    "def score_completion(l):\n",
    "    res = 0\n",
    "    for c in l:\n",
    "        res = 5 * res + points_2[c]\n",
    "    return(res)\n",
    "\n",
    "scores_2 = sorted([score_completion(complete_line(l)) for l in lines_2])\n",
    "\n",
    "int(np.median(scores_2))"
   ]
  }
 ],
 "metadata": {
  "kernelspec": {
   "display_name": "Python 3",
   "language": "python",
   "name": "python3"
  },
  "language_info": {
   "codemirror_mode": {
    "name": "ipython",
    "version": 3
   },
   "file_extension": ".py",
   "mimetype": "text/x-python",
   "name": "python",
   "nbconvert_exporter": "python",
   "pygments_lexer": "ipython3",
   "version": "3.8.3"
  }
 },
 "nbformat": 4,
 "nbformat_minor": 4
}
