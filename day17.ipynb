{
 "cells": [
  {
   "cell_type": "markdown",
   "metadata": {},
   "source": [
    "# Day 17\n",
    "\n",
    "https://adventofcode.com/2021/day/17\n",
    "\n",
    "I wrote a Probe class to implement the physics and return whether the probe hits the target. To reduce the search space, first consider just the x direction (since x and y are independent). Try every initial x velocity from 1 up to the one that overshoots on step 1, and see which ones pass through the target's x range at some point. Then try different y velocities for each winning x velocity. You could do something clever to reduce the search space here too, but I just tried every initial y velocity from -1000 to 1000 and that got to the right answer."
   ]
  },
  {
   "cell_type": "code",
   "execution_count": 1,
   "metadata": {},
   "outputs": [],
   "source": [
    "import numpy as np\n",
    "import sys"
   ]
  },
  {
   "cell_type": "code",
   "execution_count": 2,
   "metadata": {},
   "outputs": [],
   "source": [
    "class Probe:\n",
    "    \n",
    "    def __init__(self, initial_v, target_area):\n",
    "        self.v = np.array(initial_v, dtype = \"int\")\n",
    "        self.p = np.array([0, 0], dtype = \"int\")\n",
    "        self.target = target_area\n",
    "        self.hit_target = np.array([0, 0], dtype = \"int\")\n",
    "        self.success = 0\n",
    "        self.positions = [self.p]\n",
    "        self.highest_point = np.nan\n",
    "        \n",
    "    def step(self):\n",
    "        self.p = self.p + self.v\n",
    "        self.positions.append(self.p)\n",
    "        if self.v[0] < 0:\n",
    "            self.v[0] = self.v[0] + 1\n",
    "        elif self.v[0] > 0:\n",
    "            self.v[0] = self.v[0] - 1\n",
    "        \n",
    "        self.v[1] = self.v[1] - 1\n",
    "        \n",
    "    def check_target(self):\n",
    "        if self.p[0] > self.target[\"max_point\"][0] or (self.v[0] == 0 and self.p[0] < self.target[\"min_point\"][0]):\n",
    "            self.hit_target[0] = -1\n",
    "        elif self.p[0] >= self.target[\"min_point\"][0]:\n",
    "            self.hit_target[0] = 1\n",
    "                \n",
    "        if self.p[1] < self.target[\"min_point\"][1]:\n",
    "            self.hit_target[1] = -1\n",
    "        elif self.p[1] <= self.target[\"max_point\"][1]:\n",
    "            self.hit_target[1] = 1\n",
    "                \n",
    "        if np.min(self.hit_target) == 1:\n",
    "            self.success = 1\n",
    "        elif np.min(self.hit_target) == -1:\n",
    "            self.success = -1\n",
    "    \n",
    "    def simulate_for_x(self):\n",
    "        while self.hit_target[0] == 0:\n",
    "            self.step()\n",
    "            self.check_target()\n",
    "            \n",
    "        return self.hit_target[0]\n",
    "    \n",
    "    def simulate(self):\n",
    "        while self.success == 0:\n",
    "            self.step()\n",
    "            self.check_target()\n",
    "            \n",
    "        if self.success == 1:\n",
    "            self.highest_point = np.max([y for x, y in p.positions])\n",
    "            \n",
    "        return self.success"
   ]
  },
  {
   "cell_type": "code",
   "execution_count": 3,
   "metadata": {},
   "outputs": [
    {
     "data": {
      "text/plain": [
       "{'min_point': array([ 20, -10]), 'max_point': array([30, -5])}"
      ]
     },
     "execution_count": 3,
     "metadata": {},
     "output_type": "execute_result"
    }
   ],
   "source": [
    "import re\n",
    "\n",
    "re_x = re.compile(\"(?<=x\\=)[^,]+\")\n",
    "re_y = re.compile(\"(?<=y\\=)[^,]+\")\n",
    "\n",
    "def input_to_target(test_input):\n",
    "\n",
    "    x_min, x_max = np.array(re_x.findall(test_input)[0].split(\"..\"), dtype = \"int\")\n",
    "    y_min, y_max = np.array(re_y.findall(test_input)[0].split(\"..\"), dtype = \"int\")\n",
    "    res = {\"min_point\": np.array([x_min, y_min]), \"max_point\": np.array([x_max, y_max])}\n",
    "\n",
    "    return res\n",
    "\n",
    "test_input = \"target area: x=20..30, y=-10..-5\"\n",
    "\n",
    "test_target = input_to_target(test_input)\n",
    "\n",
    "test_target"
   ]
  },
  {
   "cell_type": "code",
   "execution_count": 4,
   "metadata": {},
   "outputs": [
    {
     "data": {
      "text/plain": [
       "{'min_point': array([236, -78]), 'max_point': array([262, -58])}"
      ]
     },
     "execution_count": 4,
     "metadata": {},
     "output_type": "execute_result"
    }
   ],
   "source": [
    "with open(\"input_17.txt\", \"r\") as f:\n",
    "    raw = f.read()\n",
    "    \n",
    "target = input_to_target(raw)\n",
    "target"
   ]
  },
  {
   "cell_type": "code",
   "execution_count": 5,
   "metadata": {},
   "outputs": [
    {
     "data": {
      "text/plain": [
       "85"
      ]
     },
     "execution_count": 5,
     "metadata": {},
     "output_type": "execute_result"
    }
   ],
   "source": [
    "valid_xs = []\n",
    "\n",
    "for x in range(target[\"max_point\"][0] + 1):\n",
    "    p = Probe([x, 0], target)\n",
    "    res = p.simulate_for_x()\n",
    "    if res == 1:\n",
    "        valid_xs.append(x)\n",
    "        \n",
    "len(valid_xs)"
   ]
  },
  {
   "cell_type": "code",
   "execution_count": 6,
   "metadata": {},
   "outputs": [],
   "source": [
    "results = []\n",
    "for i, x in enumerate(valid_xs):\n",
    "    for y in range(-1000, 1000):\n",
    "        p = Probe([x, y], target)\n",
    "        res = p.simulate()\n",
    "        if res == 1:\n",
    "            results.append({\"v\": np.array([x, y]), \"max_y\": p.highest_point, \"position\": p.p})"
   ]
  },
  {
   "cell_type": "code",
   "execution_count": 7,
   "metadata": {},
   "outputs": [
    {
     "data": {
      "text/plain": [
       "3003"
      ]
     },
     "execution_count": 7,
     "metadata": {},
     "output_type": "execute_result"
    }
   ],
   "source": [
    "max([x[\"max_y\"] for x in results])"
   ]
  },
  {
   "cell_type": "code",
   "execution_count": 8,
   "metadata": {},
   "outputs": [
    {
     "data": {
      "text/plain": [
       "940"
      ]
     },
     "execution_count": 8,
     "metadata": {},
     "output_type": "execute_result"
    }
   ],
   "source": [
    "len(results)"
   ]
  }
 ],
 "metadata": {
  "kernelspec": {
   "display_name": "Python 3",
   "language": "python",
   "name": "python3"
  },
  "language_info": {
   "codemirror_mode": {
    "name": "ipython",
    "version": 3
   },
   "file_extension": ".py",
   "mimetype": "text/x-python",
   "name": "python",
   "nbconvert_exporter": "python",
   "pygments_lexer": "ipython3",
   "version": "3.8.3"
  }
 },
 "nbformat": 4,
 "nbformat_minor": 4
}
